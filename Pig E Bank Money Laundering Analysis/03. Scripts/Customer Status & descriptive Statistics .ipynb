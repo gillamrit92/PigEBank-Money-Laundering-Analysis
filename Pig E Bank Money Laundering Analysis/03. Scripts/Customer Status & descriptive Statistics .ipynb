{
 "cells": [
  {
   "cell_type": "markdown",
   "id": "767003f8-45b0-4f83-ab76-d40d2c6055f4",
   "metadata": {},
   "source": [
    "# PigE Bank Customer status and Descriptive Statistics "
   ]
  },
  {
   "cell_type": "markdown",
   "id": "7038498a-c950-499e-aa0f-ac0b608dba3f",
   "metadata": {},
   "source": [
    "## Table of Contents"
   ]
  },
  {
   "cell_type": "markdown",
   "id": "ce78c447-6e6d-4b69-9747-7fbdd1fc42a4",
   "metadata": {},
   "source": [
    "### 1. Import libraries and data\n",
    "\n",
    "### 2. Check shape and structure of data\n",
    "\n",
    "### 3. Split data into active and exited customers groups\n",
    "#### 3.1 Active customers\n",
    "#### 3.2 Exited customers\n",
    "\n",
    "### 4. Basic statistics on each group\n",
    "#### 4.1 Active customers\n",
    "#### 4.2 Exited customers\n",
    "### 4.3 All customers\n",
    "\n",
    "### 5. Export data"
   ]
  },
  {
   "cell_type": "markdown",
   "id": "b560d94d-b308-4496-96f8-6d33e3e09eb7",
   "metadata": {},
   "source": [
    "## Import Libraries and Data"
   ]
  },
  {
   "cell_type": "code",
   "execution_count": 6,
   "id": "e55183ae-526a-4675-8b32-f0f803f5ea1f",
   "metadata": {},
   "outputs": [],
   "source": [
    "# Import libraries\n",
    "\n",
    "import pandas as pd\n",
    "import numpy as np\n",
    "import os\n",
    "import matplotlib.pyplot as plt\n",
    "import seaborn as sns"
   ]
  },
  {
   "cell_type": "code",
   "execution_count": 8,
   "id": "397b731f-a63a-4973-b037-067dabf2f2ef",
   "metadata": {},
   "outputs": [],
   "source": [
    "# Import data\n",
    "\n",
    "# Set path\n",
    "path = r'/Users/amritkaur/Desktop/CF Data Immersion/Chapter 5/Pig E Bank Money Laundering Analysis'\n",
    "\n",
    "# Import data\n",
    "bank = pd.read_csv(os.path.join(path, '02. Data', 'Prepared Data', 'PigEBank_cleaned.csv'), index_col = False)"
   ]
  },
  {
   "cell_type": "markdown",
   "id": "66247a05-305e-47ff-9908-f15a30b0a851",
   "metadata": {},
   "source": [
    "## 2. Check shape and structure of data."
   ]
  },
  {
   "cell_type": "code",
   "execution_count": 11,
   "id": "89177150-811f-47eb-b333-19924447eed7",
   "metadata": {},
   "outputs": [
    {
     "data": {
      "text/plain": [
       "(979, 13)"
      ]
     },
     "execution_count": 11,
     "metadata": {},
     "output_type": "execute_result"
    }
   ],
   "source": [
    "bank.shape"
   ]
  },
  {
   "cell_type": "code",
   "execution_count": 13,
   "id": "a3192850-f504-4229-b374-6b2cb2c8ff41",
   "metadata": {},
   "outputs": [
    {
     "data": {
      "text/html": [
       "<div>\n",
       "<style scoped>\n",
       "    .dataframe tbody tr th:only-of-type {\n",
       "        vertical-align: middle;\n",
       "    }\n",
       "\n",
       "    .dataframe tbody tr th {\n",
       "        vertical-align: top;\n",
       "    }\n",
       "\n",
       "    .dataframe thead th {\n",
       "        text-align: right;\n",
       "    }\n",
       "</style>\n",
       "<table border=\"1\" class=\"dataframe\">\n",
       "  <thead>\n",
       "    <tr style=\"text-align: right;\">\n",
       "      <th></th>\n",
       "      <th>Customer_ID</th>\n",
       "      <th>Last_Name</th>\n",
       "      <th>Credit Score</th>\n",
       "      <th>Country</th>\n",
       "      <th>Gender</th>\n",
       "      <th>Age</th>\n",
       "      <th>Tenure</th>\n",
       "      <th>Balance</th>\n",
       "      <th>NumOfProducts</th>\n",
       "      <th>HasCrCard?</th>\n",
       "      <th>IsActiveMember</th>\n",
       "      <th>Estimated Salary</th>\n",
       "      <th>ExitedFromBank?</th>\n",
       "    </tr>\n",
       "  </thead>\n",
       "  <tbody>\n",
       "    <tr>\n",
       "      <th>0</th>\n",
       "      <td>15634602</td>\n",
       "      <td>Hargrave</td>\n",
       "      <td>619</td>\n",
       "      <td>France</td>\n",
       "      <td>Female</td>\n",
       "      <td>42</td>\n",
       "      <td>2</td>\n",
       "      <td>0.00</td>\n",
       "      <td>1</td>\n",
       "      <td>True</td>\n",
       "      <td>True</td>\n",
       "      <td>101348.88</td>\n",
       "      <td>True</td>\n",
       "    </tr>\n",
       "    <tr>\n",
       "      <th>1</th>\n",
       "      <td>15647311</td>\n",
       "      <td>Hill</td>\n",
       "      <td>608</td>\n",
       "      <td>Spain</td>\n",
       "      <td>Female</td>\n",
       "      <td>41</td>\n",
       "      <td>1</td>\n",
       "      <td>83807.86</td>\n",
       "      <td>1</td>\n",
       "      <td>False</td>\n",
       "      <td>True</td>\n",
       "      <td>112542.58</td>\n",
       "      <td>False</td>\n",
       "    </tr>\n",
       "    <tr>\n",
       "      <th>2</th>\n",
       "      <td>15619304</td>\n",
       "      <td>Onio</td>\n",
       "      <td>502</td>\n",
       "      <td>France</td>\n",
       "      <td>Female</td>\n",
       "      <td>42</td>\n",
       "      <td>8</td>\n",
       "      <td>159660.80</td>\n",
       "      <td>3</td>\n",
       "      <td>True</td>\n",
       "      <td>False</td>\n",
       "      <td>113931.57</td>\n",
       "      <td>True</td>\n",
       "    </tr>\n",
       "    <tr>\n",
       "      <th>3</th>\n",
       "      <td>15701354</td>\n",
       "      <td>Boni</td>\n",
       "      <td>699</td>\n",
       "      <td>France</td>\n",
       "      <td>Female</td>\n",
       "      <td>39</td>\n",
       "      <td>1</td>\n",
       "      <td>0.00</td>\n",
       "      <td>2</td>\n",
       "      <td>False</td>\n",
       "      <td>False</td>\n",
       "      <td>93826.63</td>\n",
       "      <td>False</td>\n",
       "    </tr>\n",
       "    <tr>\n",
       "      <th>4</th>\n",
       "      <td>15737888</td>\n",
       "      <td>Mitchell</td>\n",
       "      <td>850</td>\n",
       "      <td>Spain</td>\n",
       "      <td>Female</td>\n",
       "      <td>43</td>\n",
       "      <td>2</td>\n",
       "      <td>125510.82</td>\n",
       "      <td>1</td>\n",
       "      <td>True</td>\n",
       "      <td>True</td>\n",
       "      <td>79084.10</td>\n",
       "      <td>False</td>\n",
       "    </tr>\n",
       "  </tbody>\n",
       "</table>\n",
       "</div>"
      ],
      "text/plain": [
       "   Customer_ID Last_Name  Credit Score Country  Gender  Age  Tenure  \\\n",
       "0     15634602  Hargrave           619  France  Female   42       2   \n",
       "1     15647311      Hill           608   Spain  Female   41       1   \n",
       "2     15619304      Onio           502  France  Female   42       8   \n",
       "3     15701354      Boni           699  France  Female   39       1   \n",
       "4     15737888  Mitchell           850   Spain  Female   43       2   \n",
       "\n",
       "     Balance  NumOfProducts  HasCrCard?  IsActiveMember  Estimated Salary  \\\n",
       "0       0.00              1        True            True         101348.88   \n",
       "1   83807.86              1       False            True         112542.58   \n",
       "2  159660.80              3        True           False         113931.57   \n",
       "3       0.00              2       False           False          93826.63   \n",
       "4  125510.82              1        True            True          79084.10   \n",
       "\n",
       "   ExitedFromBank?  \n",
       "0             True  \n",
       "1            False  \n",
       "2             True  \n",
       "3            False  \n",
       "4            False  "
      ]
     },
     "execution_count": 13,
     "metadata": {},
     "output_type": "execute_result"
    }
   ],
   "source": [
    "bank.head()"
   ]
  },
  {
   "cell_type": "markdown",
   "id": "0189c30d-642a-4244-af32-85f74b3da717",
   "metadata": {},
   "source": [
    "## 3. Split data into active and exited customers groups"
   ]
  },
  {
   "cell_type": "markdown",
   "id": "9bcbe510-a9c3-4774-b93b-794987f59be3",
   "metadata": {},
   "source": [
    "### 3.1 Active Customers"
   ]
  },
  {
   "cell_type": "code",
   "execution_count": 22,
   "id": "336235eb-db5c-47b1-ab44-60d1569e7e15",
   "metadata": {},
   "outputs": [],
   "source": [
    "# Create subset for active customers\n",
    "active = bank[bank['ExitedFromBank?'] == False]"
   ]
  },
  {
   "cell_type": "markdown",
   "id": "831ade0d-89c0-41c2-8911-a204f942b64d",
   "metadata": {},
   "source": [
    "### 3.2 Exited Customers"
   ]
  },
  {
   "cell_type": "code",
   "execution_count": 25,
   "id": "f7029acf-6393-4bc2-9d50-ab58ab3c29a2",
   "metadata": {},
   "outputs": [],
   "source": [
    "# Create subset for exited customers who left the bank\n",
    "exited = bank[bank['ExitedFromBank?'] == True]"
   ]
  },
  {
   "cell_type": "markdown",
   "id": "393c78b6-a37e-41f1-9677-4b2aa0cdb494",
   "metadata": {},
   "source": [
    "## 4. Basic statistics on each group"
   ]
  },
  {
   "cell_type": "markdown",
   "id": "335146c7-315c-487b-a3a5-2c1c81888bd2",
   "metadata": {},
   "source": [
    "### 4.1 Active Customers"
   ]
  },
  {
   "cell_type": "code",
   "execution_count": 31,
   "id": "3a4b1568-db28-4a7f-9af4-8e2757eced1d",
   "metadata": {},
   "outputs": [
    {
     "data": {
      "text/html": [
       "<div>\n",
       "<style scoped>\n",
       "    .dataframe tbody tr th:only-of-type {\n",
       "        vertical-align: middle;\n",
       "    }\n",
       "\n",
       "    .dataframe tbody tr th {\n",
       "        vertical-align: top;\n",
       "    }\n",
       "\n",
       "    .dataframe thead th {\n",
       "        text-align: right;\n",
       "    }\n",
       "</style>\n",
       "<table border=\"1\" class=\"dataframe\">\n",
       "  <thead>\n",
       "    <tr style=\"text-align: right;\">\n",
       "      <th></th>\n",
       "      <th>Customer_ID</th>\n",
       "      <th>Credit Score</th>\n",
       "      <th>Age</th>\n",
       "      <th>Tenure</th>\n",
       "      <th>Balance</th>\n",
       "      <th>NumOfProducts</th>\n",
       "      <th>Estimated Salary</th>\n",
       "    </tr>\n",
       "  </thead>\n",
       "  <tbody>\n",
       "    <tr>\n",
       "      <th>count</th>\n",
       "      <td>7.760000e+02</td>\n",
       "      <td>776.000000</td>\n",
       "      <td>776.000000</td>\n",
       "      <td>776.000000</td>\n",
       "      <td>776.000000</td>\n",
       "      <td>776.000000</td>\n",
       "      <td>776.000000</td>\n",
       "    </tr>\n",
       "    <tr>\n",
       "      <th>mean</th>\n",
       "      <td>1.569267e+07</td>\n",
       "      <td>651.478093</td>\n",
       "      <td>37.507732</td>\n",
       "      <td>5.179124</td>\n",
       "      <td>75013.781572</td>\n",
       "      <td>1.536082</td>\n",
       "      <td>99470.467041</td>\n",
       "    </tr>\n",
       "    <tr>\n",
       "      <th>std</th>\n",
       "      <td>7.216394e+04</td>\n",
       "      <td>97.232794</td>\n",
       "      <td>9.866591</td>\n",
       "      <td>2.926652</td>\n",
       "      <td>62850.595116</td>\n",
       "      <td>0.511783</td>\n",
       "      <td>56665.945020</td>\n",
       "    </tr>\n",
       "    <tr>\n",
       "      <th>min</th>\n",
       "      <td>1.556609e+07</td>\n",
       "      <td>411.000000</td>\n",
       "      <td>18.000000</td>\n",
       "      <td>0.000000</td>\n",
       "      <td>0.000000</td>\n",
       "      <td>1.000000</td>\n",
       "      <td>371.050000</td>\n",
       "    </tr>\n",
       "    <tr>\n",
       "      <th>25%</th>\n",
       "      <td>1.563149e+07</td>\n",
       "      <td>583.000000</td>\n",
       "      <td>31.000000</td>\n",
       "      <td>3.000000</td>\n",
       "      <td>0.000000</td>\n",
       "      <td>1.000000</td>\n",
       "      <td>53004.630000</td>\n",
       "    </tr>\n",
       "    <tr>\n",
       "      <th>50%</th>\n",
       "      <td>1.569272e+07</td>\n",
       "      <td>657.000000</td>\n",
       "      <td>36.000000</td>\n",
       "      <td>5.000000</td>\n",
       "      <td>93708.575000</td>\n",
       "      <td>2.000000</td>\n",
       "      <td>98621.608497</td>\n",
       "    </tr>\n",
       "    <tr>\n",
       "      <th>75%</th>\n",
       "      <td>1.575409e+07</td>\n",
       "      <td>722.250000</td>\n",
       "      <td>42.000000</td>\n",
       "      <td>8.000000</td>\n",
       "      <td>127871.442500</td>\n",
       "      <td>2.000000</td>\n",
       "      <td>146359.295000</td>\n",
       "    </tr>\n",
       "    <tr>\n",
       "      <th>max</th>\n",
       "      <td>1.581536e+07</td>\n",
       "      <td>850.000000</td>\n",
       "      <td>82.000000</td>\n",
       "      <td>10.000000</td>\n",
       "      <td>197041.800000</td>\n",
       "      <td>3.000000</td>\n",
       "      <td>199661.500000</td>\n",
       "    </tr>\n",
       "  </tbody>\n",
       "</table>\n",
       "</div>"
      ],
      "text/plain": [
       "        Customer_ID  Credit Score         Age      Tenure        Balance  \\\n",
       "count  7.760000e+02    776.000000  776.000000  776.000000     776.000000   \n",
       "mean   1.569267e+07    651.478093   37.507732    5.179124   75013.781572   \n",
       "std    7.216394e+04     97.232794    9.866591    2.926652   62850.595116   \n",
       "min    1.556609e+07    411.000000   18.000000    0.000000       0.000000   \n",
       "25%    1.563149e+07    583.000000   31.000000    3.000000       0.000000   \n",
       "50%    1.569272e+07    657.000000   36.000000    5.000000   93708.575000   \n",
       "75%    1.575409e+07    722.250000   42.000000    8.000000  127871.442500   \n",
       "max    1.581536e+07    850.000000   82.000000   10.000000  197041.800000   \n",
       "\n",
       "       NumOfProducts  Estimated Salary  \n",
       "count     776.000000        776.000000  \n",
       "mean        1.536082      99470.467041  \n",
       "std         0.511783      56665.945020  \n",
       "min         1.000000        371.050000  \n",
       "25%         1.000000      53004.630000  \n",
       "50%         2.000000      98621.608497  \n",
       "75%         2.000000     146359.295000  \n",
       "max         3.000000     199661.500000  "
      ]
     },
     "execution_count": 31,
     "metadata": {},
     "output_type": "execute_result"
    }
   ],
   "source": [
    "active.describe()"
   ]
  },
  {
   "cell_type": "code",
   "execution_count": 33,
   "id": "30051914-5fc6-4f6f-8096-eb5b1d7e04f3",
   "metadata": {},
   "outputs": [
    {
     "data": {
      "text/plain": [
       "0    850\n",
       "Name: Credit Score, dtype: int64"
      ]
     },
     "execution_count": 33,
     "metadata": {},
     "output_type": "execute_result"
    }
   ],
   "source": [
    "active['Credit Score'].mode()"
   ]
  },
  {
   "cell_type": "code",
   "execution_count": 35,
   "id": "377556e1-91b0-434f-be82-436959c3e5b7",
   "metadata": {},
   "outputs": [
    {
     "data": {
      "text/plain": [
       "0    France\n",
       "Name: Country, dtype: object"
      ]
     },
     "execution_count": 35,
     "metadata": {},
     "output_type": "execute_result"
    }
   ],
   "source": [
    "active['Country'].mode()"
   ]
  },
  {
   "cell_type": "code",
   "execution_count": 37,
   "id": "abb8304d-5da2-4d98-b62e-efb7614a0b8a",
   "metadata": {},
   "outputs": [
    {
     "data": {
      "text/plain": [
       "0    Male\n",
       "Name: Gender, dtype: object"
      ]
     },
     "execution_count": 37,
     "metadata": {},
     "output_type": "execute_result"
    }
   ],
   "source": [
    "active['Gender'].mode()"
   ]
  },
  {
   "cell_type": "code",
   "execution_count": 39,
   "id": "1362830d-5b56-4be5-ac07-3af0dd598b45",
   "metadata": {},
   "outputs": [
    {
     "data": {
      "text/plain": [
       "0    36\n",
       "Name: Age, dtype: int64"
      ]
     },
     "execution_count": 39,
     "metadata": {},
     "output_type": "execute_result"
    }
   ],
   "source": [
    "active['Age'].mode()"
   ]
  },
  {
   "cell_type": "code",
   "execution_count": 41,
   "id": "31843669-b989-49d3-be4a-31920035074a",
   "metadata": {},
   "outputs": [
    {
     "data": {
      "text/plain": [
       "0    8\n",
       "Name: Tenure, dtype: int64"
      ]
     },
     "execution_count": 41,
     "metadata": {},
     "output_type": "execute_result"
    }
   ],
   "source": [
    "active['Tenure'].mode()"
   ]
  },
  {
   "cell_type": "code",
   "execution_count": 43,
   "id": "e69a95b1-6677-40ee-a9a1-cc04db8512b5",
   "metadata": {},
   "outputs": [
    {
     "data": {
      "text/plain": [
       "0    2\n",
       "Name: NumOfProducts, dtype: int64"
      ]
     },
     "execution_count": 43,
     "metadata": {},
     "output_type": "execute_result"
    }
   ],
   "source": [
    "active['NumOfProducts'].mode()"
   ]
  },
  {
   "cell_type": "code",
   "execution_count": 45,
   "id": "2c56ff74-ebe3-4d89-a880-79fcb1952403",
   "metadata": {},
   "outputs": [
    {
     "data": {
      "text/plain": [
       "0    True\n",
       "Name: HasCrCard?, dtype: bool"
      ]
     },
     "execution_count": 45,
     "metadata": {},
     "output_type": "execute_result"
    }
   ],
   "source": [
    "active['HasCrCard?'].mode()"
   ]
  },
  {
   "cell_type": "code",
   "execution_count": 47,
   "id": "b345f0aa-817b-4fe1-a870-1a581ccaaff9",
   "metadata": {},
   "outputs": [
    {
     "data": {
      "text/plain": [
       "0    True\n",
       "Name: IsActiveMember, dtype: bool"
      ]
     },
     "execution_count": 47,
     "metadata": {},
     "output_type": "execute_result"
    }
   ],
   "source": [
    "active['IsActiveMember'].mode()"
   ]
  },
  {
   "cell_type": "code",
   "execution_count": 49,
   "id": "e3c5fe56-fe51-4fa5-bcec-520d54e6b31f",
   "metadata": {},
   "outputs": [
    {
     "data": {
      "text/plain": [
       "0    0.0\n",
       "Name: Balance, dtype: float64"
      ]
     },
     "execution_count": 49,
     "metadata": {},
     "output_type": "execute_result"
    }
   ],
   "source": [
    "active['Balance'].mode()"
   ]
  },
  {
   "cell_type": "code",
   "execution_count": 51,
   "id": "1a50acfc-8e7d-4a71-8e83-511fc83035d5",
   "metadata": {},
   "outputs": [
    {
     "data": {
      "text/plain": [
       "0    98596.996994\n",
       "Name: Estimated Salary, dtype: float64"
      ]
     },
     "execution_count": 51,
     "metadata": {},
     "output_type": "execute_result"
    }
   ],
   "source": [
    "active['Estimated Salary'].mode()"
   ]
  },
  {
   "cell_type": "code",
   "execution_count": 53,
   "id": "c1c191ae-9b01-4931-b80a-acda16cee6e3",
   "metadata": {},
   "outputs": [
    {
     "data": {
      "text/plain": [
       "(776, 13)"
      ]
     },
     "execution_count": 53,
     "metadata": {},
     "output_type": "execute_result"
    }
   ],
   "source": [
    "active.shape"
   ]
  },
  {
   "cell_type": "markdown",
   "id": "ba7d5add-1dfb-4274-9d23-8b77024edbc8",
   "metadata": {},
   "source": [
    "### 4.2 Exited Customers"
   ]
  },
  {
   "cell_type": "code",
   "execution_count": 56,
   "id": "23c58276-012d-43ac-a9b9-3bddd3a5769c",
   "metadata": {},
   "outputs": [
    {
     "data": {
      "text/html": [
       "<div>\n",
       "<style scoped>\n",
       "    .dataframe tbody tr th:only-of-type {\n",
       "        vertical-align: middle;\n",
       "    }\n",
       "\n",
       "    .dataframe tbody tr th {\n",
       "        vertical-align: top;\n",
       "    }\n",
       "\n",
       "    .dataframe thead th {\n",
       "        text-align: right;\n",
       "    }\n",
       "</style>\n",
       "<table border=\"1\" class=\"dataframe\">\n",
       "  <thead>\n",
       "    <tr style=\"text-align: right;\">\n",
       "      <th></th>\n",
       "      <th>Customer_ID</th>\n",
       "      <th>Credit Score</th>\n",
       "      <th>Age</th>\n",
       "      <th>Tenure</th>\n",
       "      <th>Balance</th>\n",
       "      <th>NumOfProducts</th>\n",
       "      <th>Estimated Salary</th>\n",
       "    </tr>\n",
       "  </thead>\n",
       "  <tbody>\n",
       "    <tr>\n",
       "      <th>count</th>\n",
       "      <td>2.030000e+02</td>\n",
       "      <td>203.000000</td>\n",
       "      <td>203.000000</td>\n",
       "      <td>203.000000</td>\n",
       "      <td>203.000000</td>\n",
       "      <td>203.000000</td>\n",
       "      <td>203.000000</td>\n",
       "    </tr>\n",
       "    <tr>\n",
       "      <th>mean</th>\n",
       "      <td>1.569065e+07</td>\n",
       "      <td>636.502463</td>\n",
       "      <td>45.241379</td>\n",
       "      <td>4.724138</td>\n",
       "      <td>90257.118966</td>\n",
       "      <td>1.453202</td>\n",
       "      <td>97551.785369</td>\n",
       "    </tr>\n",
       "    <tr>\n",
       "      <th>std</th>\n",
       "      <td>7.264750e+04</td>\n",
       "      <td>99.870529</td>\n",
       "      <td>9.568713</td>\n",
       "      <td>2.920186</td>\n",
       "      <td>61503.206675</td>\n",
       "      <td>0.758795</td>\n",
       "      <td>59413.612107</td>\n",
       "    </tr>\n",
       "    <tr>\n",
       "      <th>min</th>\n",
       "      <td>1.556875e+07</td>\n",
       "      <td>376.000000</td>\n",
       "      <td>22.000000</td>\n",
       "      <td>0.000000</td>\n",
       "      <td>0.000000</td>\n",
       "      <td>1.000000</td>\n",
       "      <td>417.410000</td>\n",
       "    </tr>\n",
       "    <tr>\n",
       "      <th>25%</th>\n",
       "      <td>1.562815e+07</td>\n",
       "      <td>561.500000</td>\n",
       "      <td>39.000000</td>\n",
       "      <td>2.000000</td>\n",
       "      <td>0.000000</td>\n",
       "      <td>1.000000</td>\n",
       "      <td>45947.585000</td>\n",
       "    </tr>\n",
       "    <tr>\n",
       "      <th>50%</th>\n",
       "      <td>1.569275e+07</td>\n",
       "      <td>643.000000</td>\n",
       "      <td>45.000000</td>\n",
       "      <td>5.000000</td>\n",
       "      <td>112822.260000</td>\n",
       "      <td>1.000000</td>\n",
       "      <td>101300.940000</td>\n",
       "    </tr>\n",
       "    <tr>\n",
       "      <th>75%</th>\n",
       "      <td>1.575271e+07</td>\n",
       "      <td>714.500000</td>\n",
       "      <td>51.000000</td>\n",
       "      <td>7.000000</td>\n",
       "      <td>133724.165000</td>\n",
       "      <td>2.000000</td>\n",
       "      <td>148779.825000</td>\n",
       "    </tr>\n",
       "    <tr>\n",
       "      <th>max</th>\n",
       "      <td>1.581176e+07</td>\n",
       "      <td>850.000000</td>\n",
       "      <td>69.000000</td>\n",
       "      <td>10.000000</td>\n",
       "      <td>213146.200000</td>\n",
       "      <td>4.000000</td>\n",
       "      <td>199725.390000</td>\n",
       "    </tr>\n",
       "  </tbody>\n",
       "</table>\n",
       "</div>"
      ],
      "text/plain": [
       "        Customer_ID  Credit Score         Age      Tenure        Balance  \\\n",
       "count  2.030000e+02    203.000000  203.000000  203.000000     203.000000   \n",
       "mean   1.569065e+07    636.502463   45.241379    4.724138   90257.118966   \n",
       "std    7.264750e+04     99.870529    9.568713    2.920186   61503.206675   \n",
       "min    1.556875e+07    376.000000   22.000000    0.000000       0.000000   \n",
       "25%    1.562815e+07    561.500000   39.000000    2.000000       0.000000   \n",
       "50%    1.569275e+07    643.000000   45.000000    5.000000  112822.260000   \n",
       "75%    1.575271e+07    714.500000   51.000000    7.000000  133724.165000   \n",
       "max    1.581176e+07    850.000000   69.000000   10.000000  213146.200000   \n",
       "\n",
       "       NumOfProducts  Estimated Salary  \n",
       "count     203.000000        203.000000  \n",
       "mean        1.453202      97551.785369  \n",
       "std         0.758795      59413.612107  \n",
       "min         1.000000        417.410000  \n",
       "25%         1.000000      45947.585000  \n",
       "50%         1.000000     101300.940000  \n",
       "75%         2.000000     148779.825000  \n",
       "max         4.000000     199725.390000  "
      ]
     },
     "execution_count": 56,
     "metadata": {},
     "output_type": "execute_result"
    }
   ],
   "source": [
    "exited.describe()"
   ]
  },
  {
   "cell_type": "code",
   "execution_count": 58,
   "id": "c9fd9fd4-a67f-4af6-a1eb-745a939008ee",
   "metadata": {},
   "outputs": [
    {
     "data": {
      "text/plain": [
       "0    643\n",
       "1    648\n",
       "2    667\n",
       "3    683\n",
       "4    750\n",
       "5    850\n",
       "Name: Credit Score, dtype: int64"
      ]
     },
     "execution_count": 58,
     "metadata": {},
     "output_type": "execute_result"
    }
   ],
   "source": [
    "exited['Credit Score'].mode()"
   ]
  },
  {
   "cell_type": "code",
   "execution_count": 60,
   "id": "ffe709fa-8c6c-4dbb-8bf9-ebf1b9aef00a",
   "metadata": {},
   "outputs": [
    {
     "data": {
      "text/plain": [
       "0    France\n",
       "Name: Country, dtype: object"
      ]
     },
     "execution_count": 60,
     "metadata": {},
     "output_type": "execute_result"
    }
   ],
   "source": [
    "exited['Country'].mode()"
   ]
  },
  {
   "cell_type": "code",
   "execution_count": 66,
   "id": "78ccf639-1be5-47bf-957c-5ee922342f95",
   "metadata": {},
   "outputs": [
    {
     "data": {
      "text/plain": [
       "0    Female\n",
       "Name: Gender, dtype: object"
      ]
     },
     "execution_count": 66,
     "metadata": {},
     "output_type": "execute_result"
    }
   ],
   "source": [
    "exited['Gender'].mode()"
   ]
  },
  {
   "cell_type": "code",
   "execution_count": 70,
   "id": "c8e83390-4958-4ab6-b256-d580685e19cb",
   "metadata": {},
   "outputs": [
    {
     "data": {
      "text/plain": [
       "0    39\n",
       "Name: Age, dtype: int64"
      ]
     },
     "execution_count": 70,
     "metadata": {},
     "output_type": "execute_result"
    }
   ],
   "source": [
    "exited['Age'].mode()"
   ]
  },
  {
   "cell_type": "code",
   "execution_count": 72,
   "id": "2832511d-27a3-40d6-bbdd-ecf73446e9df",
   "metadata": {},
   "outputs": [
    {
     "data": {
      "text/plain": [
       "0    1\n",
       "Name: Tenure, dtype: int64"
      ]
     },
     "execution_count": 72,
     "metadata": {},
     "output_type": "execute_result"
    }
   ],
   "source": [
    "exited['Tenure'].mode()"
   ]
  },
  {
   "cell_type": "code",
   "execution_count": 74,
   "id": "d86db73e-ffe9-4976-bc30-5a0542efeba1",
   "metadata": {},
   "outputs": [
    {
     "data": {
      "text/plain": [
       "0    0.0\n",
       "Name: Balance, dtype: float64"
      ]
     },
     "execution_count": 74,
     "metadata": {},
     "output_type": "execute_result"
    }
   ],
   "source": [
    "exited['Balance'].mode()"
   ]
  },
  {
   "cell_type": "code",
   "execution_count": 76,
   "id": "78b8ce54-112e-4299-aa64-c4efa43d5694",
   "metadata": {},
   "outputs": [
    {
     "data": {
      "text/plain": [
       "0    1\n",
       "Name: NumOfProducts, dtype: int64"
      ]
     },
     "execution_count": 76,
     "metadata": {},
     "output_type": "execute_result"
    }
   ],
   "source": [
    "exited['NumOfProducts'].mode()"
   ]
  },
  {
   "cell_type": "code",
   "execution_count": 78,
   "id": "2d6a3d45-af56-4329-9c02-561fd1eda467",
   "metadata": {},
   "outputs": [
    {
     "data": {
      "text/plain": [
       "0    True\n",
       "Name: HasCrCard?, dtype: bool"
      ]
     },
     "execution_count": 78,
     "metadata": {},
     "output_type": "execute_result"
    }
   ],
   "source": [
    "exited['HasCrCard?'].mode()"
   ]
  },
  {
   "cell_type": "code",
   "execution_count": 80,
   "id": "86009493-7e0d-4c37-bd4d-9f381501686e",
   "metadata": {},
   "outputs": [
    {
     "data": {
      "text/plain": [
       "0    False\n",
       "Name: IsActiveMember, dtype: bool"
      ]
     },
     "execution_count": 80,
     "metadata": {},
     "output_type": "execute_result"
    }
   ],
   "source": [
    "exited['IsActiveMember'].mode()"
   ]
  },
  {
   "cell_type": "code",
   "execution_count": 82,
   "id": "9dd1eb0b-08dc-48e8-898b-93a3be964841",
   "metadata": {},
   "outputs": [
    {
     "data": {
      "text/plain": [
       "0         417.41\n",
       "1        1643.11\n",
       "2        2079.20\n",
       "3        2319.96\n",
       "4        4861.72\n",
       "         ...    \n",
       "198    194998.34\n",
       "199    195635.30\n",
       "200    199273.98\n",
       "201    199304.74\n",
       "202    199725.39\n",
       "Name: Estimated Salary, Length: 203, dtype: float64"
      ]
     },
     "execution_count": 82,
     "metadata": {},
     "output_type": "execute_result"
    }
   ],
   "source": [
    "exited['Estimated Salary'].mode()"
   ]
  },
  {
   "cell_type": "code",
   "execution_count": 84,
   "id": "e6ac365a-2f79-4923-88bd-14cd98c2f86f",
   "metadata": {},
   "outputs": [
    {
     "data": {
      "text/plain": [
       "(203, 13)"
      ]
     },
     "execution_count": 84,
     "metadata": {},
     "output_type": "execute_result"
    }
   ],
   "source": [
    "exited.shape"
   ]
  },
  {
   "cell_type": "markdown",
   "id": "b199132f-bc5b-40b2-a5dd-d4413033c1d7",
   "metadata": {},
   "source": [
    "### 4.3 All Clients"
   ]
  },
  {
   "cell_type": "code",
   "execution_count": 87,
   "id": "84b58fd0-9145-4f98-803a-bce8c1097c4f",
   "metadata": {},
   "outputs": [
    {
     "data": {
      "text/html": [
       "<div>\n",
       "<style scoped>\n",
       "    .dataframe tbody tr th:only-of-type {\n",
       "        vertical-align: middle;\n",
       "    }\n",
       "\n",
       "    .dataframe tbody tr th {\n",
       "        vertical-align: top;\n",
       "    }\n",
       "\n",
       "    .dataframe thead th {\n",
       "        text-align: right;\n",
       "    }\n",
       "</style>\n",
       "<table border=\"1\" class=\"dataframe\">\n",
       "  <thead>\n",
       "    <tr style=\"text-align: right;\">\n",
       "      <th></th>\n",
       "      <th>Customer_ID</th>\n",
       "      <th>Credit Score</th>\n",
       "      <th>Age</th>\n",
       "      <th>Tenure</th>\n",
       "      <th>Balance</th>\n",
       "      <th>NumOfProducts</th>\n",
       "      <th>Estimated Salary</th>\n",
       "    </tr>\n",
       "  </thead>\n",
       "  <tbody>\n",
       "    <tr>\n",
       "      <th>count</th>\n",
       "      <td>9.790000e+02</td>\n",
       "      <td>979.000000</td>\n",
       "      <td>979.000000</td>\n",
       "      <td>979.000000</td>\n",
       "      <td>979.000000</td>\n",
       "      <td>979.000000</td>\n",
       "      <td>979.000000</td>\n",
       "    </tr>\n",
       "    <tr>\n",
       "      <th>mean</th>\n",
       "      <td>1.569225e+07</td>\n",
       "      <td>648.372829</td>\n",
       "      <td>39.111338</td>\n",
       "      <td>5.084780</td>\n",
       "      <td>78174.555312</td>\n",
       "      <td>1.518897</td>\n",
       "      <td>99072.619871</td>\n",
       "    </tr>\n",
       "    <tr>\n",
       "      <th>std</th>\n",
       "      <td>7.223189e+04</td>\n",
       "      <td>97.922578</td>\n",
       "      <td>10.290507</td>\n",
       "      <td>2.929639</td>\n",
       "      <td>62847.279285</td>\n",
       "      <td>0.572370</td>\n",
       "      <td>57220.874890</td>\n",
       "    </tr>\n",
       "    <tr>\n",
       "      <th>min</th>\n",
       "      <td>1.556609e+07</td>\n",
       "      <td>376.000000</td>\n",
       "      <td>18.000000</td>\n",
       "      <td>0.000000</td>\n",
       "      <td>0.000000</td>\n",
       "      <td>1.000000</td>\n",
       "      <td>371.050000</td>\n",
       "    </tr>\n",
       "    <tr>\n",
       "      <th>25%</th>\n",
       "      <td>1.563019e+07</td>\n",
       "      <td>579.500000</td>\n",
       "      <td>32.000000</td>\n",
       "      <td>2.000000</td>\n",
       "      <td>0.000000</td>\n",
       "      <td>1.000000</td>\n",
       "      <td>50090.645000</td>\n",
       "    </tr>\n",
       "    <tr>\n",
       "      <th>50%</th>\n",
       "      <td>1.569275e+07</td>\n",
       "      <td>653.000000</td>\n",
       "      <td>37.000000</td>\n",
       "      <td>5.000000</td>\n",
       "      <td>99027.610000</td>\n",
       "      <td>1.000000</td>\n",
       "      <td>98820.390000</td>\n",
       "    </tr>\n",
       "    <tr>\n",
       "      <th>75%</th>\n",
       "      <td>1.575396e+07</td>\n",
       "      <td>721.000000</td>\n",
       "      <td>44.000000</td>\n",
       "      <td>8.000000</td>\n",
       "      <td>129500.955000</td>\n",
       "      <td>2.000000</td>\n",
       "      <td>146856.220000</td>\n",
       "    </tr>\n",
       "    <tr>\n",
       "      <th>max</th>\n",
       "      <td>1.581536e+07</td>\n",
       "      <td>850.000000</td>\n",
       "      <td>82.000000</td>\n",
       "      <td>10.000000</td>\n",
       "      <td>213146.200000</td>\n",
       "      <td>4.000000</td>\n",
       "      <td>199725.390000</td>\n",
       "    </tr>\n",
       "  </tbody>\n",
       "</table>\n",
       "</div>"
      ],
      "text/plain": [
       "        Customer_ID  Credit Score         Age      Tenure        Balance  \\\n",
       "count  9.790000e+02    979.000000  979.000000  979.000000     979.000000   \n",
       "mean   1.569225e+07    648.372829   39.111338    5.084780   78174.555312   \n",
       "std    7.223189e+04     97.922578   10.290507    2.929639   62847.279285   \n",
       "min    1.556609e+07    376.000000   18.000000    0.000000       0.000000   \n",
       "25%    1.563019e+07    579.500000   32.000000    2.000000       0.000000   \n",
       "50%    1.569275e+07    653.000000   37.000000    5.000000   99027.610000   \n",
       "75%    1.575396e+07    721.000000   44.000000    8.000000  129500.955000   \n",
       "max    1.581536e+07    850.000000   82.000000   10.000000  213146.200000   \n",
       "\n",
       "       NumOfProducts  Estimated Salary  \n",
       "count     979.000000        979.000000  \n",
       "mean        1.518897      99072.619871  \n",
       "std         0.572370      57220.874890  \n",
       "min         1.000000        371.050000  \n",
       "25%         1.000000      50090.645000  \n",
       "50%         1.000000      98820.390000  \n",
       "75%         2.000000     146856.220000  \n",
       "max         4.000000     199725.390000  "
      ]
     },
     "execution_count": 87,
     "metadata": {},
     "output_type": "execute_result"
    }
   ],
   "source": [
    "bank.describe()"
   ]
  },
  {
   "cell_type": "code",
   "execution_count": 89,
   "id": "3a520e3f-c2a5-4359-a855-f523aaf392c1",
   "metadata": {},
   "outputs": [
    {
     "data": {
      "text/plain": [
       "0    850\n",
       "Name: Credit Score, dtype: int64"
      ]
     },
     "execution_count": 89,
     "metadata": {},
     "output_type": "execute_result"
    }
   ],
   "source": [
    "bank['Credit Score'].mode()"
   ]
  },
  {
   "cell_type": "code",
   "execution_count": 91,
   "id": "86488103-1c3d-4e11-bce0-d6240fa9f431",
   "metadata": {},
   "outputs": [
    {
     "data": {
      "text/plain": [
       "0    France\n",
       "Name: Country, dtype: object"
      ]
     },
     "execution_count": 91,
     "metadata": {},
     "output_type": "execute_result"
    }
   ],
   "source": [
    "bank['Country'].mode()"
   ]
  },
  {
   "cell_type": "code",
   "execution_count": 93,
   "id": "d23fcb7f-6418-4729-b511-18dec7e143a3",
   "metadata": {},
   "outputs": [
    {
     "data": {
      "text/plain": [
       "0    Male\n",
       "Name: Gender, dtype: object"
      ]
     },
     "execution_count": 93,
     "metadata": {},
     "output_type": "execute_result"
    }
   ],
   "source": [
    "bank['Gender'].mode()"
   ]
  },
  {
   "cell_type": "code",
   "execution_count": 95,
   "id": "a802e80a-484d-44cb-b621-43b5feaf2a81",
   "metadata": {},
   "outputs": [
    {
     "data": {
      "text/plain": [
       "0    36\n",
       "Name: Age, dtype: int64"
      ]
     },
     "execution_count": 95,
     "metadata": {},
     "output_type": "execute_result"
    }
   ],
   "source": [
    "bank['Age'].mode()"
   ]
  },
  {
   "cell_type": "code",
   "execution_count": 97,
   "id": "a9db4ab2-1547-4a3c-9ee3-563d11a6a9f8",
   "metadata": {},
   "outputs": [
    {
     "data": {
      "text/plain": [
       "0    2\n",
       "1    8\n",
       "2    9\n",
       "Name: Tenure, dtype: int64"
      ]
     },
     "execution_count": 97,
     "metadata": {},
     "output_type": "execute_result"
    }
   ],
   "source": [
    "bank['Tenure'].mode()"
   ]
  },
  {
   "cell_type": "code",
   "execution_count": 99,
   "id": "c06d62dc-3864-420c-b647-b1e2f5cbc821",
   "metadata": {},
   "outputs": [
    {
     "data": {
      "text/plain": [
       "0    0.0\n",
       "Name: Balance, dtype: float64"
      ]
     },
     "execution_count": 99,
     "metadata": {},
     "output_type": "execute_result"
    }
   ],
   "source": [
    "bank['Balance'].mode()"
   ]
  },
  {
   "cell_type": "code",
   "execution_count": 101,
   "id": "5f573d50-6d70-456b-95d2-e41ab6117b3f",
   "metadata": {},
   "outputs": [
    {
     "data": {
      "text/plain": [
       "0    1\n",
       "Name: NumOfProducts, dtype: int64"
      ]
     },
     "execution_count": 101,
     "metadata": {},
     "output_type": "execute_result"
    }
   ],
   "source": [
    "bank['NumOfProducts'].mode()"
   ]
  },
  {
   "cell_type": "code",
   "execution_count": 103,
   "id": "03cf05b9-a993-47b7-b917-eb1f5db3bb59",
   "metadata": {},
   "outputs": [
    {
     "data": {
      "text/plain": [
       "0    True\n",
       "Name: HasCrCard?, dtype: bool"
      ]
     },
     "execution_count": 103,
     "metadata": {},
     "output_type": "execute_result"
    }
   ],
   "source": [
    "bank['HasCrCard?'].mode()"
   ]
  },
  {
   "cell_type": "code",
   "execution_count": 105,
   "id": "10559440-7397-401a-99e9-4abb01f41cca",
   "metadata": {},
   "outputs": [
    {
     "data": {
      "text/plain": [
       "0    True\n",
       "Name: IsActiveMember, dtype: bool"
      ]
     },
     "execution_count": 105,
     "metadata": {},
     "output_type": "execute_result"
    }
   ],
   "source": [
    "bank['IsActiveMember'].mode()"
   ]
  },
  {
   "cell_type": "code",
   "execution_count": 107,
   "id": "ade2f010-c335-4db7-94a9-6e81018456f1",
   "metadata": {},
   "outputs": [
    {
     "data": {
      "text/plain": [
       "0    98596.996994\n",
       "Name: Estimated Salary, dtype: float64"
      ]
     },
     "execution_count": 107,
     "metadata": {},
     "output_type": "execute_result"
    }
   ],
   "source": [
    "bank['Estimated Salary'].mode()"
   ]
  },
  {
   "cell_type": "code",
   "execution_count": 109,
   "id": "f28b5e54-4005-4a09-bfa9-939e1fd71e3a",
   "metadata": {},
   "outputs": [
    {
     "data": {
      "text/plain": [
       "(979, 13)"
      ]
     },
     "execution_count": 109,
     "metadata": {},
     "output_type": "execute_result"
    }
   ],
   "source": [
    "bank.shape"
   ]
  },
  {
   "cell_type": "markdown",
   "id": "312db443-3cdf-4188-8867-2b207c2639a9",
   "metadata": {},
   "source": [
    "## 5. Export data"
   ]
  },
  {
   "cell_type": "code",
   "execution_count": 112,
   "id": "f1c0ad8e-cdc0-458f-a336-241c710927ec",
   "metadata": {},
   "outputs": [],
   "source": [
    "# Export data\n",
    "\n",
    "bank.to_csv(os.path.join(path, '02. Data', 'Prepared Data', 'PigEBank_cleaned_all.csv'), index=False)\n",
    "active.to_csv(os.path.join(path, '02. Data', 'Prepared Data', 'PigEBank_cleaned_active.csv'), index=False)\n",
    "exited.to_csv(os.path.join(path, '02. Data', 'Prepared Data', 'PigEBank_cleaned_exited.csv'), index=False)"
   ]
  },
  {
   "cell_type": "code",
   "execution_count": null,
   "id": "25967e33-5dad-40a6-8ce6-a1fed67a5adb",
   "metadata": {},
   "outputs": [],
   "source": []
  }
 ],
 "metadata": {
  "kernelspec": {
   "display_name": "Python 3 (ipykernel)",
   "language": "python",
   "name": "python3"
  },
  "language_info": {
   "codemirror_mode": {
    "name": "ipython",
    "version": 3
   },
   "file_extension": ".py",
   "mimetype": "text/x-python",
   "name": "python",
   "nbconvert_exporter": "python",
   "pygments_lexer": "ipython3",
   "version": "3.12.4"
  }
 },
 "nbformat": 4,
 "nbformat_minor": 5
}
