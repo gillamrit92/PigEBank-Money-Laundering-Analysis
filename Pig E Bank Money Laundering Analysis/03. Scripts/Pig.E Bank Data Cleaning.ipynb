{
 "cells": [
  {
   "cell_type": "markdown",
   "id": "066fec1a-676f-4a49-9fa5-793a44dc06ad",
   "metadata": {},
   "source": [
    "# Pig.E Bank Data Cleaning "
   ]
  },
  {
   "cell_type": "markdown",
   "id": "07fa6bba-082b-46cc-a6a0-9a6e37004a94",
   "metadata": {},
   "source": [
    "## Table of Contents"
   ]
  },
  {
   "cell_type": "markdown",
   "id": "1fd8b9cc-2a16-48da-9c19-e339c4652dc6",
   "metadata": {},
   "source": [
    "### 1. Import libraries and data.\n",
    "### 2. Check data shape, structure, and basic descriptive statistics\n",
    "\n",
    "### 3. Consistency Checks\n",
    "\n",
    "#### 3.1 Missing values\n",
    "#### 3.2 Mixed-type data\n",
    "#### 3.3 Update data types\n",
    "#### 3.4 Duplicates\n",
    "\n",
    "### 4. Data Wrangling\n",
    "#### 4.1 Drop columns if necessary\n",
    "\n",
    "### 5. Check frequencies in pertinent columns\n",
    "#### 5.1 Country\n",
    "#### 5.2 Gender\n",
    "\n",
    "### 6. Check shape, structure and basic descriptive statistics after updates\n",
    "\n",
    "### 7. Export data"
   ]
  },
  {
   "cell_type": "markdown",
   "id": "c11a01d3-91f6-4696-913a-d9760290aa26",
   "metadata": {},
   "source": [
    "## Importing Libraries and Data"
   ]
  },
  {
   "cell_type": "code",
   "execution_count": 99,
   "id": "854c814d-3b4c-49c6-879e-bc48298fbb4a",
   "metadata": {},
   "outputs": [],
   "source": [
    "# Import libraries\n",
    "\n",
    "import pandas as pd\n",
    "import numpy as np\n",
    "import os"
   ]
  },
  {
   "cell_type": "code",
   "execution_count": 100,
   "id": "2a4fcfaa-4d9d-4e9d-a52e-bcaa35228bf9",
   "metadata": {},
   "outputs": [],
   "source": [
    "# Set path\n",
    "path = r'/Users/amritkaur/Desktop/CF Data Immersion/Chapter 5/Pig E Bank Money Laundering Analysis'\n",
    "\n",
    "# Import data\n",
    "bank = pd.read_csv(os.path.join(path, '02. Data', 'Original Data', 'Raw Data.csv'), index_col = False)"
   ]
  },
  {
   "cell_type": "markdown",
   "id": "2ab1a798-8e6a-48cb-8fb8-249d05a40307",
   "metadata": {},
   "source": [
    "## 2. Check data shape, structure, and basic descriptive statistics"
   ]
  },
  {
   "cell_type": "code",
   "execution_count": 102,
   "id": "de41e9c7-d988-4d03-960d-f7a1b8548e9a",
   "metadata": {},
   "outputs": [
    {
     "data": {
      "text/html": [
       "<div>\n",
       "<style scoped>\n",
       "    .dataframe tbody tr th:only-of-type {\n",
       "        vertical-align: middle;\n",
       "    }\n",
       "\n",
       "    .dataframe tbody tr th {\n",
       "        vertical-align: top;\n",
       "    }\n",
       "\n",
       "    .dataframe thead th {\n",
       "        text-align: right;\n",
       "    }\n",
       "</style>\n",
       "<table border=\"1\" class=\"dataframe\">\n",
       "  <thead>\n",
       "    <tr style=\"text-align: right;\">\n",
       "      <th></th>\n",
       "      <th>Row_Number</th>\n",
       "      <th>Customer_ID</th>\n",
       "      <th>Last_Name</th>\n",
       "      <th>Credit Score</th>\n",
       "      <th>Country</th>\n",
       "      <th>Gender</th>\n",
       "      <th>Age</th>\n",
       "      <th>Tenure</th>\n",
       "      <th>Balance</th>\n",
       "      <th>NumOfProducts</th>\n",
       "      <th>HasCrCard?</th>\n",
       "      <th>IsActiveMember</th>\n",
       "      <th>Estimated Salary</th>\n",
       "      <th>ExitedFromBank?</th>\n",
       "      <th>Unnamed: 14</th>\n",
       "      <th>Unnamed: 15</th>\n",
       "    </tr>\n",
       "  </thead>\n",
       "  <tbody>\n",
       "    <tr>\n",
       "      <th>0</th>\n",
       "      <td>1</td>\n",
       "      <td>15634602</td>\n",
       "      <td>Hargrave</td>\n",
       "      <td>619.0</td>\n",
       "      <td>France</td>\n",
       "      <td>Female</td>\n",
       "      <td>42.0</td>\n",
       "      <td>2</td>\n",
       "      <td>$0.00</td>\n",
       "      <td>1</td>\n",
       "      <td>1</td>\n",
       "      <td>1</td>\n",
       "      <td>$101,348.88</td>\n",
       "      <td>1</td>\n",
       "      <td>NaN</td>\n",
       "      <td>NaN</td>\n",
       "    </tr>\n",
       "    <tr>\n",
       "      <th>1</th>\n",
       "      <td>2</td>\n",
       "      <td>15647311</td>\n",
       "      <td>Hill</td>\n",
       "      <td>608.0</td>\n",
       "      <td>Spain</td>\n",
       "      <td>Female</td>\n",
       "      <td>41.0</td>\n",
       "      <td>1</td>\n",
       "      <td>$83,807.86</td>\n",
       "      <td>1</td>\n",
       "      <td>0</td>\n",
       "      <td>1</td>\n",
       "      <td>$112,542.58</td>\n",
       "      <td>0</td>\n",
       "      <td>NaN</td>\n",
       "      <td>NaN</td>\n",
       "    </tr>\n",
       "    <tr>\n",
       "      <th>2</th>\n",
       "      <td>3</td>\n",
       "      <td>15619304</td>\n",
       "      <td>Onio</td>\n",
       "      <td>502.0</td>\n",
       "      <td>France</td>\n",
       "      <td>Female</td>\n",
       "      <td>42.0</td>\n",
       "      <td>8</td>\n",
       "      <td>$159,660.80</td>\n",
       "      <td>3</td>\n",
       "      <td>1</td>\n",
       "      <td>0</td>\n",
       "      <td>$113,931.57</td>\n",
       "      <td>1</td>\n",
       "      <td>NaN</td>\n",
       "      <td>NaN</td>\n",
       "    </tr>\n",
       "    <tr>\n",
       "      <th>3</th>\n",
       "      <td>4</td>\n",
       "      <td>15701354</td>\n",
       "      <td>Boni</td>\n",
       "      <td>699.0</td>\n",
       "      <td>France</td>\n",
       "      <td>Female</td>\n",
       "      <td>39.0</td>\n",
       "      <td>1</td>\n",
       "      <td>$0.00</td>\n",
       "      <td>2</td>\n",
       "      <td>0</td>\n",
       "      <td>0</td>\n",
       "      <td>$93,826.63</td>\n",
       "      <td>0</td>\n",
       "      <td>NaN</td>\n",
       "      <td>NaN</td>\n",
       "    </tr>\n",
       "    <tr>\n",
       "      <th>4</th>\n",
       "      <td>5</td>\n",
       "      <td>15737888</td>\n",
       "      <td>Mitchell</td>\n",
       "      <td>850.0</td>\n",
       "      <td>Spain</td>\n",
       "      <td>Female</td>\n",
       "      <td>43.0</td>\n",
       "      <td>2</td>\n",
       "      <td>$125,510.82</td>\n",
       "      <td>1</td>\n",
       "      <td>1</td>\n",
       "      <td>1</td>\n",
       "      <td>$79,084.10</td>\n",
       "      <td>0</td>\n",
       "      <td>NaN</td>\n",
       "      <td>NaN</td>\n",
       "    </tr>\n",
       "  </tbody>\n",
       "</table>\n",
       "</div>"
      ],
      "text/plain": [
       "   Row_Number  Customer_ID Last_Name  Credit Score Country  Gender   Age  \\\n",
       "0           1     15634602  Hargrave         619.0  France  Female  42.0   \n",
       "1           2     15647311      Hill         608.0   Spain  Female  41.0   \n",
       "2           3     15619304      Onio         502.0  France  Female  42.0   \n",
       "3           4     15701354      Boni         699.0  France  Female  39.0   \n",
       "4           5     15737888  Mitchell         850.0   Spain  Female  43.0   \n",
       "\n",
       "   Tenure       Balance  NumOfProducts  HasCrCard?  IsActiveMember  \\\n",
       "0       2        $0.00               1           1               1   \n",
       "1       1   $83,807.86               1           0               1   \n",
       "2       8  $159,660.80               3           1               0   \n",
       "3       1        $0.00               2           0               0   \n",
       "4       2  $125,510.82               1           1               1   \n",
       "\n",
       "  Estimated Salary  ExitedFromBank?  Unnamed: 14  Unnamed: 15  \n",
       "0      $101,348.88                1          NaN          NaN  \n",
       "1      $112,542.58                0          NaN          NaN  \n",
       "2      $113,931.57                1          NaN          NaN  \n",
       "3       $93,826.63                0          NaN          NaN  \n",
       "4       $79,084.10                0          NaN          NaN  "
      ]
     },
     "execution_count": 102,
     "metadata": {},
     "output_type": "execute_result"
    }
   ],
   "source": [
    "bank.head()"
   ]
  },
  {
   "cell_type": "code",
   "execution_count": 103,
   "id": "4388158a-b82b-432a-877d-6bdde891bb86",
   "metadata": {},
   "outputs": [
    {
     "data": {
      "text/html": [
       "<div>\n",
       "<style scoped>\n",
       "    .dataframe tbody tr th:only-of-type {\n",
       "        vertical-align: middle;\n",
       "    }\n",
       "\n",
       "    .dataframe tbody tr th {\n",
       "        vertical-align: top;\n",
       "    }\n",
       "\n",
       "    .dataframe thead th {\n",
       "        text-align: right;\n",
       "    }\n",
       "</style>\n",
       "<table border=\"1\" class=\"dataframe\">\n",
       "  <thead>\n",
       "    <tr style=\"text-align: right;\">\n",
       "      <th></th>\n",
       "      <th>Row_Number</th>\n",
       "      <th>Customer_ID</th>\n",
       "      <th>Credit Score</th>\n",
       "      <th>Age</th>\n",
       "      <th>Tenure</th>\n",
       "      <th>NumOfProducts</th>\n",
       "      <th>HasCrCard?</th>\n",
       "      <th>IsActiveMember</th>\n",
       "      <th>ExitedFromBank?</th>\n",
       "      <th>Unnamed: 14</th>\n",
       "      <th>Unnamed: 15</th>\n",
       "    </tr>\n",
       "  </thead>\n",
       "  <tbody>\n",
       "    <tr>\n",
       "      <th>count</th>\n",
       "      <td>991.00000</td>\n",
       "      <td>9.910000e+02</td>\n",
       "      <td>988.000000</td>\n",
       "      <td>990.000000</td>\n",
       "      <td>991.000000</td>\n",
       "      <td>991.000000</td>\n",
       "      <td>991.000000</td>\n",
       "      <td>991.000000</td>\n",
       "      <td>991.000000</td>\n",
       "      <td>0.0</td>\n",
       "      <td>0.0</td>\n",
       "    </tr>\n",
       "    <tr>\n",
       "      <th>mean</th>\n",
       "      <td>496.00000</td>\n",
       "      <td>1.569232e+07</td>\n",
       "      <td>648.512146</td>\n",
       "      <td>38.684848</td>\n",
       "      <td>5.066599</td>\n",
       "      <td>1.522704</td>\n",
       "      <td>0.706357</td>\n",
       "      <td>0.507568</td>\n",
       "      <td>0.205853</td>\n",
       "      <td>NaN</td>\n",
       "      <td>NaN</td>\n",
       "    </tr>\n",
       "    <tr>\n",
       "      <th>std</th>\n",
       "      <td>286.22136</td>\n",
       "      <td>7.223333e+04</td>\n",
       "      <td>98.202853</td>\n",
       "      <td>10.958220</td>\n",
       "      <td>2.928371</td>\n",
       "      <td>0.573170</td>\n",
       "      <td>0.455660</td>\n",
       "      <td>0.500195</td>\n",
       "      <td>0.404527</td>\n",
       "      <td>NaN</td>\n",
       "      <td>NaN</td>\n",
       "    </tr>\n",
       "    <tr>\n",
       "      <th>min</th>\n",
       "      <td>1.00000</td>\n",
       "      <td>1.556609e+07</td>\n",
       "      <td>376.000000</td>\n",
       "      <td>2.000000</td>\n",
       "      <td>0.000000</td>\n",
       "      <td>1.000000</td>\n",
       "      <td>0.000000</td>\n",
       "      <td>0.000000</td>\n",
       "      <td>0.000000</td>\n",
       "      <td>NaN</td>\n",
       "      <td>NaN</td>\n",
       "    </tr>\n",
       "    <tr>\n",
       "      <th>25%</th>\n",
       "      <td>248.50000</td>\n",
       "      <td>1.563019e+07</td>\n",
       "      <td>579.750000</td>\n",
       "      <td>32.000000</td>\n",
       "      <td>2.000000</td>\n",
       "      <td>1.000000</td>\n",
       "      <td>0.000000</td>\n",
       "      <td>0.000000</td>\n",
       "      <td>0.000000</td>\n",
       "      <td>NaN</td>\n",
       "      <td>NaN</td>\n",
       "    </tr>\n",
       "    <tr>\n",
       "      <th>50%</th>\n",
       "      <td>496.00000</td>\n",
       "      <td>1.569275e+07</td>\n",
       "      <td>653.500000</td>\n",
       "      <td>37.000000</td>\n",
       "      <td>5.000000</td>\n",
       "      <td>1.000000</td>\n",
       "      <td>1.000000</td>\n",
       "      <td>1.000000</td>\n",
       "      <td>0.000000</td>\n",
       "      <td>NaN</td>\n",
       "      <td>NaN</td>\n",
       "    </tr>\n",
       "    <tr>\n",
       "      <th>75%</th>\n",
       "      <td>743.50000</td>\n",
       "      <td>1.575379e+07</td>\n",
       "      <td>721.000000</td>\n",
       "      <td>44.000000</td>\n",
       "      <td>8.000000</td>\n",
       "      <td>2.000000</td>\n",
       "      <td>1.000000</td>\n",
       "      <td>1.000000</td>\n",
       "      <td>0.000000</td>\n",
       "      <td>NaN</td>\n",
       "      <td>NaN</td>\n",
       "    </tr>\n",
       "    <tr>\n",
       "      <th>max</th>\n",
       "      <td>991.00000</td>\n",
       "      <td>1.581536e+07</td>\n",
       "      <td>850.000000</td>\n",
       "      <td>82.000000</td>\n",
       "      <td>10.000000</td>\n",
       "      <td>4.000000</td>\n",
       "      <td>1.000000</td>\n",
       "      <td>1.000000</td>\n",
       "      <td>1.000000</td>\n",
       "      <td>NaN</td>\n",
       "      <td>NaN</td>\n",
       "    </tr>\n",
       "  </tbody>\n",
       "</table>\n",
       "</div>"
      ],
      "text/plain": [
       "       Row_Number   Customer_ID  Credit Score         Age      Tenure  \\\n",
       "count   991.00000  9.910000e+02    988.000000  990.000000  991.000000   \n",
       "mean    496.00000  1.569232e+07    648.512146   38.684848    5.066599   \n",
       "std     286.22136  7.223333e+04     98.202853   10.958220    2.928371   \n",
       "min       1.00000  1.556609e+07    376.000000    2.000000    0.000000   \n",
       "25%     248.50000  1.563019e+07    579.750000   32.000000    2.000000   \n",
       "50%     496.00000  1.569275e+07    653.500000   37.000000    5.000000   \n",
       "75%     743.50000  1.575379e+07    721.000000   44.000000    8.000000   \n",
       "max     991.00000  1.581536e+07    850.000000   82.000000   10.000000   \n",
       "\n",
       "       NumOfProducts  HasCrCard?  IsActiveMember  ExitedFromBank?  \\\n",
       "count     991.000000  991.000000      991.000000       991.000000   \n",
       "mean        1.522704    0.706357        0.507568         0.205853   \n",
       "std         0.573170    0.455660        0.500195         0.404527   \n",
       "min         1.000000    0.000000        0.000000         0.000000   \n",
       "25%         1.000000    0.000000        0.000000         0.000000   \n",
       "50%         1.000000    1.000000        1.000000         0.000000   \n",
       "75%         2.000000    1.000000        1.000000         0.000000   \n",
       "max         4.000000    1.000000        1.000000         1.000000   \n",
       "\n",
       "       Unnamed: 14  Unnamed: 15  \n",
       "count          0.0          0.0  \n",
       "mean           NaN          NaN  \n",
       "std            NaN          NaN  \n",
       "min            NaN          NaN  \n",
       "25%            NaN          NaN  \n",
       "50%            NaN          NaN  \n",
       "75%            NaN          NaN  \n",
       "max            NaN          NaN  "
      ]
     },
     "execution_count": 103,
     "metadata": {},
     "output_type": "execute_result"
    }
   ],
   "source": [
    "bank.describe()"
   ]
  },
  {
   "cell_type": "code",
   "execution_count": 104,
   "id": "bc58e003-34fd-47e9-9a42-185061faa34f",
   "metadata": {},
   "outputs": [
    {
     "data": {
      "text/plain": [
       "(991, 16)"
      ]
     },
     "execution_count": 104,
     "metadata": {},
     "output_type": "execute_result"
    }
   ],
   "source": [
    "bank.shape"
   ]
  },
  {
   "cell_type": "markdown",
   "id": "c5eb3daa-c7d5-4b70-bfd8-e37c587f27a3",
   "metadata": {},
   "source": [
    "Initial Data Insights:\n",
    "There are 991 rows and looks like we have 3 missing values in credit scores because there are 988 rows.\n",
    "990 age: possibly missing 1 value here\n",
    "989 estimated salaries: possibly missing 2 values here\n",
    "min and max credit scores seems fine.\n",
    "min age: 2 (unrealistic unless someone opened an account for their child. This was confirmed with stakeholders that these are likely outliers and can be removed from the dataset.)"
   ]
  },
  {
   "cell_type": "markdown",
   "id": "eb8ada9a-6008-49c1-b671-c2b67b1f007d",
   "metadata": {},
   "source": [
    "## 3. Consistency Checks"
   ]
  },
  {
   "cell_type": "markdown",
   "id": "a69c25cd-c9d0-45d2-98c8-f9413ab6ded2",
   "metadata": {},
   "source": [
    "### 3.1 Missing values"
   ]
  },
  {
   "cell_type": "code",
   "execution_count": 108,
   "id": "c45cac20-976f-4838-9122-94989b4649b4",
   "metadata": {},
   "outputs": [
    {
     "data": {
      "text/plain": [
       "Row_Number            0\n",
       "Customer_ID           0\n",
       "Last_Name             1\n",
       "Credit Score          3\n",
       "Country               0\n",
       "Gender                1\n",
       "Age                   1\n",
       "Tenure                0\n",
       "Balance               0\n",
       "NumOfProducts         0\n",
       "HasCrCard?            0\n",
       "IsActiveMember        0\n",
       "Estimated Salary      2\n",
       "ExitedFromBank?       0\n",
       "Unnamed: 14         991\n",
       "Unnamed: 15         991\n",
       "dtype: int64"
      ]
     },
     "execution_count": 108,
     "metadata": {},
     "output_type": "execute_result"
    }
   ],
   "source": [
    "# Check for missing values\n",
    "bank.isnull().sum()"
   ]
  },
  {
   "cell_type": "markdown",
   "id": "9f192a72-2b4d-4a1d-88c9-e4b362cca599",
   "metadata": {},
   "source": [
    "#### 1. Country – Some are abbreviated, some are spelt out. Changed the abbreviations from DE to Germany, ES to Spain and FR to France. Fix the spelling of France  for clarity and consistency\n",
    "#### 2. Age – There are rows with age 2. I  got the average age of females  and impute it on the table. The average age value is 39.\n",
    "#### 3. Last_name – there are some names with question marks. Due to PII, I think it’s not important for analysis so I just remove the ? Sign from row 11. \n",
    "#### 4. Gender – Some are abbreviated, some are spelt out. There is one NULL value. I changed  the abbreviated ones and leave the NULL value as is.  Some clients are not comfortable to disclose their gender due to PII. \n",
    "#### 5. Credit Score – There are 3 blank values. I imputed the Blank values with Average Credit score valu because this column is important for our analysis. \n",
    "#### 6. Estimated salary – There is a blank and NULL value cells. As per Germany' male average salary and Spain's Female Average salary, I impute the values as it might be important factor for furute analysis. ysis. "
   ]
  },
  {
   "cell_type": "markdown",
   "id": "bdc6b716-46a0-490a-815b-fd8ea970f843",
   "metadata": {},
   "source": [
    "### Last_Name"
   ]
  },
  {
   "cell_type": "code",
   "execution_count": 111,
   "id": "36d00b05-f5e4-4ae7-a259-e09f86391e1f",
   "metadata": {},
   "outputs": [],
   "source": [
    "# Fill in missing 'Last_Name' value with 'Unknown'\n",
    "bank['Last_Name'] = bank['Last_Name'].fillna('Unknown')"
   ]
  },
  {
   "cell_type": "code",
   "execution_count": 112,
   "id": "157f5775-8cc7-4213-b17a-8744104f693e",
   "metadata": {},
   "outputs": [
    {
     "data": {
      "text/plain": [
       "0"
      ]
     },
     "execution_count": 112,
     "metadata": {},
     "output_type": "execute_result"
    }
   ],
   "source": [
    "# Check for missing values in last_name\n",
    "bank['Last_Name'].isnull().sum()"
   ]
  },
  {
   "cell_type": "markdown",
   "id": "52ea77b8-0a78-4aac-a604-778432b95164",
   "metadata": {},
   "source": [
    "### Credit Score"
   ]
  },
  {
   "cell_type": "code",
   "execution_count": 114,
   "id": "7cd2cfb0-a4a5-40cc-958b-b47259e2d756",
   "metadata": {},
   "outputs": [],
   "source": [
    "# Calculate the mean credit score\n",
    "mean_credit_score = bank['Credit Score'].mean()\n",
    "\n",
    "# Fill missing values in the credit score column with the mean_credit_score\n",
    "bank.loc[:, 'Credit Score'] = bank['Credit Score'].fillna(mean_credit_score)"
   ]
  },
  {
   "cell_type": "code",
   "execution_count": 115,
   "id": "e7d13783-21af-4ff3-b1d8-a8fff1829657",
   "metadata": {},
   "outputs": [
    {
     "data": {
      "text/plain": [
       "0"
      ]
     },
     "execution_count": 115,
     "metadata": {},
     "output_type": "execute_result"
    }
   ],
   "source": [
    "# Check for missing values in Credit Score\n",
    "bank['Credit Score'].isnull().sum()"
   ]
  },
  {
   "cell_type": "markdown",
   "id": "1fc3ce2f-8ecf-4dd5-b0bc-02b51f294678",
   "metadata": {},
   "source": [
    "### Gender"
   ]
  },
  {
   "cell_type": "code",
   "execution_count": 117,
   "id": "ff9acaf2-f59e-4af4-98b2-65834ac64ded",
   "metadata": {},
   "outputs": [],
   "source": [
    "# Drop record with missing gender value\n",
    "bank = bank.dropna(subset=['Gender'])"
   ]
  },
  {
   "cell_type": "code",
   "execution_count": 118,
   "id": "0136f2ef-1679-49de-94fb-9814a6df9c03",
   "metadata": {},
   "outputs": [
    {
     "data": {
      "text/plain": [
       "0"
      ]
     },
     "execution_count": 118,
     "metadata": {},
     "output_type": "execute_result"
    }
   ],
   "source": [
    "# Check for missing values in Gender\n",
    "bank['Gender'].isnull().sum()"
   ]
  },
  {
   "cell_type": "markdown",
   "id": "196e76cb-cba5-41fe-9a30-638d791c91a7",
   "metadata": {},
   "source": [
    "### Age"
   ]
  },
  {
   "cell_type": "code",
   "execution_count": 120,
   "id": "5b6cce8d-89d8-495e-a89d-174e06e486d1",
   "metadata": {},
   "outputs": [],
   "source": [
    "# Calculate the mean age\n",
    "mean_age = bank['Age'].mean()\n",
    "\n",
    "# Fill missing value in Age\n",
    "bank.loc[:, 'Age'] = bank['Age'].fillna(mean_age)"
   ]
  },
  {
   "cell_type": "code",
   "execution_count": 121,
   "id": "60e0d9a5-42a9-4a19-93ff-3d7debfec8ef",
   "metadata": {},
   "outputs": [
    {
     "data": {
      "text/plain": [
       "0"
      ]
     },
     "execution_count": 121,
     "metadata": {},
     "output_type": "execute_result"
    }
   ],
   "source": [
    "# Check for missing values in Age\n",
    "bank['Age'].isnull().sum()"
   ]
  },
  {
   "cell_type": "markdown",
   "id": "88c8d2e5-b6ce-41a3-9ea9-267be078ab94",
   "metadata": {},
   "source": [
    "### Estimated Salary"
   ]
  },
  {
   "cell_type": "code",
   "execution_count": 123,
   "id": "6e7cb57a-85ec-4fbe-8420-9499bb97a627",
   "metadata": {},
   "outputs": [],
   "source": [
    "## In order to perform aggregation on 'Estimated Salary', we must remove the dollar sign and comma and convert it from a string, into a numberical data type\n",
    "\n",
    "# Remove dollar signs and commas on 'Estimated Salary' column and change data type to float64\n",
    "bank['Estimated Salary'] = bank['Estimated Salary'].replace(r'[\\$,]', '', regex=True).astype('float64')\n",
    "\n",
    "# Calculate the mean estimated salary\n",
    "mean_estimated_salary = bank['Estimated Salary'].mean()\n",
    "\n",
    "# Fill missing values in estimated salary\n",
    "bank.loc[:, 'Estimated Salary'] = bank['Estimated Salary'].fillna(mean_estimated_salary)"
   ]
  },
  {
   "cell_type": "code",
   "execution_count": 124,
   "id": "9ba72097-d1f7-46d8-aada-b4aa05f5d22e",
   "metadata": {},
   "outputs": [
    {
     "data": {
      "text/plain": [
       "0"
      ]
     },
     "execution_count": 124,
     "metadata": {},
     "output_type": "execute_result"
    }
   ],
   "source": [
    "# Check for missing values in Estimated Salary\n",
    "bank['Estimated Salary'].isnull().sum()"
   ]
  },
  {
   "cell_type": "code",
   "execution_count": 125,
   "id": "635bd5cd-37d3-4638-9818-b7c5a5e56d32",
   "metadata": {},
   "outputs": [
    {
     "data": {
      "text/plain": [
       "Row_Number            0\n",
       "Customer_ID           0\n",
       "Last_Name             0\n",
       "Credit Score          0\n",
       "Country               0\n",
       "Gender                0\n",
       "Age                   0\n",
       "Tenure                0\n",
       "Balance               0\n",
       "NumOfProducts         0\n",
       "HasCrCard?            0\n",
       "IsActiveMember        0\n",
       "Estimated Salary      0\n",
       "ExitedFromBank?       0\n",
       "Unnamed: 14         990\n",
       "Unnamed: 15         990\n",
       "dtype: int64"
      ]
     },
     "execution_count": 125,
     "metadata": {},
     "output_type": "execute_result"
    }
   ],
   "source": [
    "# Final check\n",
    "bank.isnull().sum()"
   ]
  },
  {
   "cell_type": "markdown",
   "id": "4394c284-afd5-4767-9c36-7eda85501269",
   "metadata": {},
   "source": [
    "There are no more missing values left."
   ]
  },
  {
   "cell_type": "markdown",
   "id": "30c095c7-5d41-44f9-b195-fe3b81a9e497",
   "metadata": {},
   "source": [
    "### 3.2 Mixed-type data"
   ]
  },
  {
   "cell_type": "code",
   "execution_count": 128,
   "id": "72470d05-a874-44c5-8c1a-7c721ccebd9c",
   "metadata": {},
   "outputs": [
    {
     "name": "stdout",
     "output_type": "stream",
     "text": [
      "No Mixed-type data\n",
      "No Mixed-type data\n",
      "No Mixed-type data\n",
      "No Mixed-type data\n",
      "No Mixed-type data\n",
      "No Mixed-type data\n",
      "No Mixed-type data\n",
      "No Mixed-type data\n",
      "No Mixed-type data\n",
      "No Mixed-type data\n",
      "No Mixed-type data\n",
      "No Mixed-type data\n",
      "No Mixed-type data\n",
      "No Mixed-type data\n",
      "No Mixed-type data\n",
      "No Mixed-type data\n"
     ]
    }
   ],
   "source": [
    "# Check for mixed type data\n",
    "\n",
    "for col in bank.columns.tolist():\n",
    "    weird = (bank[[col]].map(type) != bank[[col]].iloc[0].apply(type)).any(axis = 1)\n",
    "    if len(bank[weird]) > 0:\n",
    "        print (col)\n",
    "    else: \n",
    "        print('No Mixed-type data')"
   ]
  },
  {
   "cell_type": "markdown",
   "id": "f0614807-8e9f-43cf-8eb5-5376c334df19",
   "metadata": {},
   "source": [
    "### 3.3 Update data types"
   ]
  },
  {
   "cell_type": "code",
   "execution_count": 130,
   "id": "3f45328e-4530-406a-81f7-f440ed53e6db",
   "metadata": {},
   "outputs": [
    {
     "data": {
      "text/plain": [
       "Row_Number            int64\n",
       "Customer_ID           int64\n",
       "Last_Name            object\n",
       "Credit Score        float64\n",
       "Country              object\n",
       "Gender               object\n",
       "Age                 float64\n",
       "Tenure                int64\n",
       "Balance              object\n",
       "NumOfProducts         int64\n",
       "HasCrCard?            int64\n",
       "IsActiveMember        int64\n",
       "Estimated Salary    float64\n",
       "ExitedFromBank?       int64\n",
       "Unnamed: 14         float64\n",
       "Unnamed: 15         float64\n",
       "dtype: object"
      ]
     },
     "execution_count": 130,
     "metadata": {},
     "output_type": "execute_result"
    }
   ],
   "source": [
    "# Check data types\n",
    "bank.dtypes"
   ]
  },
  {
   "cell_type": "code",
   "execution_count": 131,
   "id": "5d33791e-0288-42ca-bf40-10e6ec88e487",
   "metadata": {},
   "outputs": [],
   "source": [
    "# Change data type on 'Credit Score' to int64\n",
    "bank['Credit Score'] = bank['Credit Score'].astype('int64')"
   ]
  },
  {
   "cell_type": "code",
   "execution_count": 132,
   "id": "75c6797a-d6d1-447b-b23a-f514ab0bcc0f",
   "metadata": {},
   "outputs": [],
   "source": [
    "# Change data type on 'Age' to int64\n",
    "bank['Age'] = bank['Age'].astype('int64')"
   ]
  },
  {
   "cell_type": "code",
   "execution_count": 155,
   "id": "4f8fdf95-24fb-4be0-b76e-e02f349c5612",
   "metadata": {},
   "outputs": [],
   "source": [
    "# Remove dollar signs and commas on 'Balance' column and change data type to float64\n",
    "bank['Balance'] = bank['Balance'].replace(r'[\\$,]', '', regex=True).astype('float64')"
   ]
  },
  {
   "cell_type": "code",
   "execution_count": 157,
   "id": "fefa5f8b-f361-42be-b246-878be7a111df",
   "metadata": {},
   "outputs": [],
   "source": [
    "# Change data type on 'HasCrCard?' to boolean\n",
    "bank['HasCrCard?'] = bank['HasCrCard?'].astype('boolean')"
   ]
  },
  {
   "cell_type": "code",
   "execution_count": 159,
   "id": "6b6a2c32-d3b9-4dc1-b58e-90efc0269763",
   "metadata": {},
   "outputs": [],
   "source": [
    "# Change data type on 'IsActiveMember' to boolean\n",
    "bank['IsActiveMember'] = bank['IsActiveMember'].astype('boolean')"
   ]
  },
  {
   "cell_type": "code",
   "execution_count": 161,
   "id": "b5200b03-ebe2-41a8-9a66-b39195be037e",
   "metadata": {},
   "outputs": [],
   "source": [
    "# Change data type on 'ExitedFromBank?' to boolean\n",
    "bank['ExitedFromBank?'] = bank['ExitedFromBank?'].astype('boolean')"
   ]
  },
  {
   "cell_type": "code",
   "execution_count": 163,
   "id": "ff02c33f-4539-46ef-b033-9f4249a8a356",
   "metadata": {},
   "outputs": [
    {
     "data": {
      "text/plain": [
       "Row_Number            int64\n",
       "Customer_ID           int64\n",
       "Last_Name            object\n",
       "Credit Score          int64\n",
       "Country              object\n",
       "Gender               object\n",
       "Age                   int64\n",
       "Tenure                int64\n",
       "Balance             float64\n",
       "NumOfProducts         int64\n",
       "HasCrCard?          boolean\n",
       "IsActiveMember      boolean\n",
       "Estimated Salary    float64\n",
       "ExitedFromBank?     boolean\n",
       "Unnamed: 14         float64\n",
       "Unnamed: 15         float64\n",
       "dtype: object"
      ]
     },
     "execution_count": 163,
     "metadata": {},
     "output_type": "execute_result"
    }
   ],
   "source": [
    "# Confirm datatypes changes\n",
    "bank.dtypes"
   ]
  },
  {
   "cell_type": "markdown",
   "id": "a46745d9-11af-4da7-b408-92bdeb60de97",
   "metadata": {},
   "source": [
    "### 3.4 Duplicates"
   ]
  },
  {
   "cell_type": "code",
   "execution_count": 166,
   "id": "25d05f4e-aea6-41e8-bba7-ce6813eeec17",
   "metadata": {},
   "outputs": [
    {
     "data": {
      "text/html": [
       "<div>\n",
       "<style scoped>\n",
       "    .dataframe tbody tr th:only-of-type {\n",
       "        vertical-align: middle;\n",
       "    }\n",
       "\n",
       "    .dataframe tbody tr th {\n",
       "        vertical-align: top;\n",
       "    }\n",
       "\n",
       "    .dataframe thead th {\n",
       "        text-align: right;\n",
       "    }\n",
       "</style>\n",
       "<table border=\"1\" class=\"dataframe\">\n",
       "  <thead>\n",
       "    <tr style=\"text-align: right;\">\n",
       "      <th></th>\n",
       "      <th>Row_Number</th>\n",
       "      <th>Customer_ID</th>\n",
       "      <th>Last_Name</th>\n",
       "      <th>Credit Score</th>\n",
       "      <th>Country</th>\n",
       "      <th>Gender</th>\n",
       "      <th>Age</th>\n",
       "      <th>Tenure</th>\n",
       "      <th>Balance</th>\n",
       "      <th>NumOfProducts</th>\n",
       "      <th>HasCrCard?</th>\n",
       "      <th>IsActiveMember</th>\n",
       "      <th>Estimated Salary</th>\n",
       "      <th>ExitedFromBank?</th>\n",
       "      <th>Unnamed: 14</th>\n",
       "      <th>Unnamed: 15</th>\n",
       "    </tr>\n",
       "  </thead>\n",
       "  <tbody>\n",
       "  </tbody>\n",
       "</table>\n",
       "</div>"
      ],
      "text/plain": [
       "Empty DataFrame\n",
       "Columns: [Row_Number, Customer_ID, Last_Name, Credit Score, Country, Gender, Age, Tenure, Balance, NumOfProducts, HasCrCard?, IsActiveMember, Estimated Salary, ExitedFromBank?, Unnamed: 14, Unnamed: 15]\n",
       "Index: []"
      ]
     },
     "execution_count": 166,
     "metadata": {},
     "output_type": "execute_result"
    }
   ],
   "source": [
    "# Create subset bank_dups to hold any duplicated rows in the bank dataframe\n",
    "bank_dups = bank[bank.duplicated()]\n",
    "\n",
    "# If bank_dups returns empty, there are no duplicates.\n",
    "# If bank_dups returns values, those are the duplicates. \n",
    "bank_dups"
   ]
  },
  {
   "cell_type": "markdown",
   "id": "6665bc8d-aa84-443f-8c18-af0b6033fd21",
   "metadata": {},
   "source": [
    "There are no duplicates."
   ]
  },
  {
   "cell_type": "code",
   "execution_count": 169,
   "id": "8e1eb312-6dfe-430b-923c-871733e21381",
   "metadata": {},
   "outputs": [
    {
     "data": {
      "text/plain": [
       "(990, 16)"
      ]
     },
     "execution_count": 169,
     "metadata": {},
     "output_type": "execute_result"
    }
   ],
   "source": [
    "# Check data shape\n",
    "bank.shape"
   ]
  },
  {
   "cell_type": "markdown",
   "id": "aa959c5c-0220-454e-8074-9347a3eaa66b",
   "metadata": {},
   "source": [
    "## 4. Data Wrangling"
   ]
  },
  {
   "cell_type": "markdown",
   "id": "9dd01dec-322f-4a38-87c7-4d1d25cbf82e",
   "metadata": {},
   "source": [
    "### 4.1 Droping unnecessary columns"
   ]
  },
  {
   "cell_type": "code",
   "execution_count": 173,
   "id": "9521801d-29f5-40bc-abb0-18d52b06599b",
   "metadata": {},
   "outputs": [
    {
     "data": {
      "text/html": [
       "<div>\n",
       "<style scoped>\n",
       "    .dataframe tbody tr th:only-of-type {\n",
       "        vertical-align: middle;\n",
       "    }\n",
       "\n",
       "    .dataframe tbody tr th {\n",
       "        vertical-align: top;\n",
       "    }\n",
       "\n",
       "    .dataframe thead th {\n",
       "        text-align: right;\n",
       "    }\n",
       "</style>\n",
       "<table border=\"1\" class=\"dataframe\">\n",
       "  <thead>\n",
       "    <tr style=\"text-align: right;\">\n",
       "      <th></th>\n",
       "      <th>Row_Number</th>\n",
       "      <th>Customer_ID</th>\n",
       "      <th>Last_Name</th>\n",
       "      <th>Credit Score</th>\n",
       "      <th>Country</th>\n",
       "      <th>Gender</th>\n",
       "      <th>Age</th>\n",
       "      <th>Tenure</th>\n",
       "      <th>Balance</th>\n",
       "      <th>NumOfProducts</th>\n",
       "      <th>HasCrCard?</th>\n",
       "      <th>IsActiveMember</th>\n",
       "      <th>Estimated Salary</th>\n",
       "      <th>ExitedFromBank?</th>\n",
       "      <th>Unnamed: 14</th>\n",
       "      <th>Unnamed: 15</th>\n",
       "    </tr>\n",
       "  </thead>\n",
       "  <tbody>\n",
       "    <tr>\n",
       "      <th>0</th>\n",
       "      <td>1</td>\n",
       "      <td>15634602</td>\n",
       "      <td>Hargrave</td>\n",
       "      <td>619</td>\n",
       "      <td>France</td>\n",
       "      <td>Female</td>\n",
       "      <td>42</td>\n",
       "      <td>2</td>\n",
       "      <td>0.00</td>\n",
       "      <td>1</td>\n",
       "      <td>True</td>\n",
       "      <td>True</td>\n",
       "      <td>101348.88</td>\n",
       "      <td>True</td>\n",
       "      <td>NaN</td>\n",
       "      <td>NaN</td>\n",
       "    </tr>\n",
       "    <tr>\n",
       "      <th>1</th>\n",
       "      <td>2</td>\n",
       "      <td>15647311</td>\n",
       "      <td>Hill</td>\n",
       "      <td>608</td>\n",
       "      <td>Spain</td>\n",
       "      <td>Female</td>\n",
       "      <td>41</td>\n",
       "      <td>1</td>\n",
       "      <td>83807.86</td>\n",
       "      <td>1</td>\n",
       "      <td>False</td>\n",
       "      <td>True</td>\n",
       "      <td>112542.58</td>\n",
       "      <td>False</td>\n",
       "      <td>NaN</td>\n",
       "      <td>NaN</td>\n",
       "    </tr>\n",
       "    <tr>\n",
       "      <th>2</th>\n",
       "      <td>3</td>\n",
       "      <td>15619304</td>\n",
       "      <td>Onio</td>\n",
       "      <td>502</td>\n",
       "      <td>France</td>\n",
       "      <td>Female</td>\n",
       "      <td>42</td>\n",
       "      <td>8</td>\n",
       "      <td>159660.80</td>\n",
       "      <td>3</td>\n",
       "      <td>True</td>\n",
       "      <td>False</td>\n",
       "      <td>113931.57</td>\n",
       "      <td>True</td>\n",
       "      <td>NaN</td>\n",
       "      <td>NaN</td>\n",
       "    </tr>\n",
       "    <tr>\n",
       "      <th>3</th>\n",
       "      <td>4</td>\n",
       "      <td>15701354</td>\n",
       "      <td>Boni</td>\n",
       "      <td>699</td>\n",
       "      <td>France</td>\n",
       "      <td>Female</td>\n",
       "      <td>39</td>\n",
       "      <td>1</td>\n",
       "      <td>0.00</td>\n",
       "      <td>2</td>\n",
       "      <td>False</td>\n",
       "      <td>False</td>\n",
       "      <td>93826.63</td>\n",
       "      <td>False</td>\n",
       "      <td>NaN</td>\n",
       "      <td>NaN</td>\n",
       "    </tr>\n",
       "    <tr>\n",
       "      <th>4</th>\n",
       "      <td>5</td>\n",
       "      <td>15737888</td>\n",
       "      <td>Mitchell</td>\n",
       "      <td>850</td>\n",
       "      <td>Spain</td>\n",
       "      <td>Female</td>\n",
       "      <td>43</td>\n",
       "      <td>2</td>\n",
       "      <td>125510.82</td>\n",
       "      <td>1</td>\n",
       "      <td>True</td>\n",
       "      <td>True</td>\n",
       "      <td>79084.10</td>\n",
       "      <td>False</td>\n",
       "      <td>NaN</td>\n",
       "      <td>NaN</td>\n",
       "    </tr>\n",
       "  </tbody>\n",
       "</table>\n",
       "</div>"
      ],
      "text/plain": [
       "   Row_Number  Customer_ID Last_Name  Credit Score Country  Gender  Age  \\\n",
       "0           1     15634602  Hargrave           619  France  Female   42   \n",
       "1           2     15647311      Hill           608   Spain  Female   41   \n",
       "2           3     15619304      Onio           502  France  Female   42   \n",
       "3           4     15701354      Boni           699  France  Female   39   \n",
       "4           5     15737888  Mitchell           850   Spain  Female   43   \n",
       "\n",
       "   Tenure    Balance  NumOfProducts  HasCrCard?  IsActiveMember  \\\n",
       "0       2       0.00              1        True            True   \n",
       "1       1   83807.86              1       False            True   \n",
       "2       8  159660.80              3        True           False   \n",
       "3       1       0.00              2       False           False   \n",
       "4       2  125510.82              1        True            True   \n",
       "\n",
       "   Estimated Salary  ExitedFromBank?  Unnamed: 14  Unnamed: 15  \n",
       "0         101348.88             True          NaN          NaN  \n",
       "1         112542.58            False          NaN          NaN  \n",
       "2         113931.57             True          NaN          NaN  \n",
       "3          93826.63            False          NaN          NaN  \n",
       "4          79084.10            False          NaN          NaN  "
      ]
     },
     "execution_count": 173,
     "metadata": {},
     "output_type": "execute_result"
    }
   ],
   "source": [
    "bank.head()"
   ]
  },
  {
   "cell_type": "code",
   "execution_count": 187,
   "id": "2108509b-c248-4ee4-8274-76c51ce865be",
   "metadata": {},
   "outputs": [],
   "source": [
    "# Drop Unnecessary column\n",
    "bank = bank.drop(columns=['Unnamed: 15'])"
   ]
  },
  {
   "cell_type": "code",
   "execution_count": 189,
   "id": "7d94d786-266d-42f3-be41-37415d9fa142",
   "metadata": {},
   "outputs": [
    {
     "data": {
      "text/html": [
       "<div>\n",
       "<style scoped>\n",
       "    .dataframe tbody tr th:only-of-type {\n",
       "        vertical-align: middle;\n",
       "    }\n",
       "\n",
       "    .dataframe tbody tr th {\n",
       "        vertical-align: top;\n",
       "    }\n",
       "\n",
       "    .dataframe thead th {\n",
       "        text-align: right;\n",
       "    }\n",
       "</style>\n",
       "<table border=\"1\" class=\"dataframe\">\n",
       "  <thead>\n",
       "    <tr style=\"text-align: right;\">\n",
       "      <th></th>\n",
       "      <th>Customer_ID</th>\n",
       "      <th>Last_Name</th>\n",
       "      <th>Credit Score</th>\n",
       "      <th>Country</th>\n",
       "      <th>Gender</th>\n",
       "      <th>Age</th>\n",
       "      <th>Tenure</th>\n",
       "      <th>Balance</th>\n",
       "      <th>NumOfProducts</th>\n",
       "      <th>HasCrCard?</th>\n",
       "      <th>IsActiveMember</th>\n",
       "      <th>Estimated Salary</th>\n",
       "      <th>ExitedFromBank?</th>\n",
       "    </tr>\n",
       "  </thead>\n",
       "  <tbody>\n",
       "    <tr>\n",
       "      <th>0</th>\n",
       "      <td>15634602</td>\n",
       "      <td>Hargrave</td>\n",
       "      <td>619</td>\n",
       "      <td>France</td>\n",
       "      <td>Female</td>\n",
       "      <td>42</td>\n",
       "      <td>2</td>\n",
       "      <td>0.00</td>\n",
       "      <td>1</td>\n",
       "      <td>True</td>\n",
       "      <td>True</td>\n",
       "      <td>101348.88</td>\n",
       "      <td>True</td>\n",
       "    </tr>\n",
       "    <tr>\n",
       "      <th>1</th>\n",
       "      <td>15647311</td>\n",
       "      <td>Hill</td>\n",
       "      <td>608</td>\n",
       "      <td>Spain</td>\n",
       "      <td>Female</td>\n",
       "      <td>41</td>\n",
       "      <td>1</td>\n",
       "      <td>83807.86</td>\n",
       "      <td>1</td>\n",
       "      <td>False</td>\n",
       "      <td>True</td>\n",
       "      <td>112542.58</td>\n",
       "      <td>False</td>\n",
       "    </tr>\n",
       "    <tr>\n",
       "      <th>2</th>\n",
       "      <td>15619304</td>\n",
       "      <td>Onio</td>\n",
       "      <td>502</td>\n",
       "      <td>France</td>\n",
       "      <td>Female</td>\n",
       "      <td>42</td>\n",
       "      <td>8</td>\n",
       "      <td>159660.80</td>\n",
       "      <td>3</td>\n",
       "      <td>True</td>\n",
       "      <td>False</td>\n",
       "      <td>113931.57</td>\n",
       "      <td>True</td>\n",
       "    </tr>\n",
       "    <tr>\n",
       "      <th>3</th>\n",
       "      <td>15701354</td>\n",
       "      <td>Boni</td>\n",
       "      <td>699</td>\n",
       "      <td>France</td>\n",
       "      <td>Female</td>\n",
       "      <td>39</td>\n",
       "      <td>1</td>\n",
       "      <td>0.00</td>\n",
       "      <td>2</td>\n",
       "      <td>False</td>\n",
       "      <td>False</td>\n",
       "      <td>93826.63</td>\n",
       "      <td>False</td>\n",
       "    </tr>\n",
       "    <tr>\n",
       "      <th>4</th>\n",
       "      <td>15737888</td>\n",
       "      <td>Mitchell</td>\n",
       "      <td>850</td>\n",
       "      <td>Spain</td>\n",
       "      <td>Female</td>\n",
       "      <td>43</td>\n",
       "      <td>2</td>\n",
       "      <td>125510.82</td>\n",
       "      <td>1</td>\n",
       "      <td>True</td>\n",
       "      <td>True</td>\n",
       "      <td>79084.10</td>\n",
       "      <td>False</td>\n",
       "    </tr>\n",
       "  </tbody>\n",
       "</table>\n",
       "</div>"
      ],
      "text/plain": [
       "   Customer_ID Last_Name  Credit Score Country  Gender  Age  Tenure  \\\n",
       "0     15634602  Hargrave           619  France  Female   42       2   \n",
       "1     15647311      Hill           608   Spain  Female   41       1   \n",
       "2     15619304      Onio           502  France  Female   42       8   \n",
       "3     15701354      Boni           699  France  Female   39       1   \n",
       "4     15737888  Mitchell           850   Spain  Female   43       2   \n",
       "\n",
       "     Balance  NumOfProducts  HasCrCard?  IsActiveMember  Estimated Salary  \\\n",
       "0       0.00              1        True            True         101348.88   \n",
       "1   83807.86              1       False            True         112542.58   \n",
       "2  159660.80              3        True           False         113931.57   \n",
       "3       0.00              2       False           False          93826.63   \n",
       "4  125510.82              1        True            True          79084.10   \n",
       "\n",
       "   ExitedFromBank?  \n",
       "0             True  \n",
       "1            False  \n",
       "2             True  \n",
       "3            False  \n",
       "4            False  "
      ]
     },
     "execution_count": 189,
     "metadata": {},
     "output_type": "execute_result"
    }
   ],
   "source": [
    "bank.head()"
   ]
  },
  {
   "cell_type": "code",
   "execution_count": 191,
   "id": "53539a6d-f2d1-4497-8b5a-817364d8dc34",
   "metadata": {},
   "outputs": [
    {
     "data": {
      "text/plain": [
       "(990, 13)"
      ]
     },
     "execution_count": 191,
     "metadata": {},
     "output_type": "execute_result"
    }
   ],
   "source": [
    "bank.shape"
   ]
  },
  {
   "cell_type": "markdown",
   "id": "b10d1848-1421-4fe3-a9f4-02c4d5de6a00",
   "metadata": {},
   "source": [
    "## 5. Check frequencies in pertinent columns"
   ]
  },
  {
   "cell_type": "markdown",
   "id": "a979e589-47ca-4320-a7d1-a55e8cb0112d",
   "metadata": {},
   "source": [
    "### 5.1 Country"
   ]
  },
  {
   "cell_type": "code",
   "execution_count": 195,
   "id": "cbe97721-60d4-4bec-a266-681dd9576bfd",
   "metadata": {},
   "outputs": [
    {
     "data": {
      "text/plain": [
       "Country\n",
       "FR         244\n",
       "France     236\n",
       "Germany    234\n",
       "Spain      135\n",
       "ES         118\n",
       "DE          23\n",
       "Name: count, dtype: int64"
      ]
     },
     "execution_count": 195,
     "metadata": {},
     "output_type": "execute_result"
    }
   ],
   "source": [
    "bank['Country'].value_counts()"
   ]
  },
  {
   "cell_type": "code",
   "execution_count": 197,
   "id": "b3421e5c-34c4-4ea9-9458-4b36789d02b2",
   "metadata": {},
   "outputs": [],
   "source": [
    "# Update FR to France\n",
    "bank['Country'] = bank['Country'].replace('FR', 'France')\n",
    "# Update ES to Spain\n",
    "bank['Country'] = bank['Country'].replace('ES', 'Spain')\n",
    "# Update DE to Germany\n",
    "bank['Country'] = bank['Country'].replace('DE', 'Germany')\n"
   ]
  },
  {
   "cell_type": "code",
   "execution_count": 199,
   "id": "0b90ba0f-5a61-4429-ba9e-cd3ef59e955e",
   "metadata": {},
   "outputs": [
    {
     "data": {
      "text/plain": [
       "Country\n",
       "France     480\n",
       "Germany    257\n",
       "Spain      253\n",
       "Name: count, dtype: int64"
      ]
     },
     "execution_count": 199,
     "metadata": {},
     "output_type": "execute_result"
    }
   ],
   "source": [
    "# Confirm changes\n",
    "bank['Country'].value_counts()"
   ]
  },
  {
   "cell_type": "markdown",
   "id": "e72e3eba-d617-41ca-8b46-3be0fa110984",
   "metadata": {},
   "source": [
    "### 5.2 Gender"
   ]
  },
  {
   "cell_type": "code",
   "execution_count": 202,
   "id": "c924826a-a02a-46de-ab9e-8d0fc6c445b7",
   "metadata": {},
   "outputs": [
    {
     "data": {
      "text/plain": [
       "Gender\n",
       "Male      479\n",
       "Female    443\n",
       "M          49\n",
       "F          19\n",
       "Name: count, dtype: int64"
      ]
     },
     "execution_count": 202,
     "metadata": {},
     "output_type": "execute_result"
    }
   ],
   "source": [
    "bank['Gender'].value_counts()"
   ]
  },
  {
   "cell_type": "code",
   "execution_count": 204,
   "id": "287ef9d1-9441-42c6-9e46-d33f5047e209",
   "metadata": {},
   "outputs": [],
   "source": [
    "# Update M to male\n",
    "bank['Gender'] = bank['Gender'].replace('M', 'Male')\n",
    "# Update F to female\n",
    "bank['Gender'] = bank['Gender'].replace('F', 'Female')"
   ]
  },
  {
   "cell_type": "code",
   "execution_count": 206,
   "id": "71bab8a0-473f-4482-b68b-364f436f4fbb",
   "metadata": {},
   "outputs": [
    {
     "data": {
      "text/plain": [
       "Gender\n",
       "Male      528\n",
       "Female    462\n",
       "Name: count, dtype: int64"
      ]
     },
     "execution_count": 206,
     "metadata": {},
     "output_type": "execute_result"
    }
   ],
   "source": [
    "# Confirm changes\n",
    "bank['Gender'].value_counts()"
   ]
  },
  {
   "cell_type": "markdown",
   "id": "a96e6650-470d-4a9a-8f61-38cfe907d97f",
   "metadata": {},
   "source": [
    "### 5.3 Age"
   ]
  },
  {
   "cell_type": "code",
   "execution_count": 209,
   "id": "98bec5c0-9a5c-4878-82d4-122c282a8b62",
   "metadata": {},
   "outputs": [],
   "source": [
    "# Correct Age values <18 years\n",
    "age_check = bank[bank['Age'] < 18]"
   ]
  },
  {
   "cell_type": "code",
   "execution_count": 211,
   "id": "2273d5fa-aea3-4985-b4f5-0c3a5a37ce6d",
   "metadata": {},
   "outputs": [
    {
     "data": {
      "text/html": [
       "<div>\n",
       "<style scoped>\n",
       "    .dataframe tbody tr th:only-of-type {\n",
       "        vertical-align: middle;\n",
       "    }\n",
       "\n",
       "    .dataframe tbody tr th {\n",
       "        vertical-align: top;\n",
       "    }\n",
       "\n",
       "    .dataframe thead th {\n",
       "        text-align: right;\n",
       "    }\n",
       "</style>\n",
       "<table border=\"1\" class=\"dataframe\">\n",
       "  <thead>\n",
       "    <tr style=\"text-align: right;\">\n",
       "      <th></th>\n",
       "      <th>Customer_ID</th>\n",
       "      <th>Last_Name</th>\n",
       "      <th>Credit Score</th>\n",
       "      <th>Country</th>\n",
       "      <th>Gender</th>\n",
       "      <th>Age</th>\n",
       "      <th>Tenure</th>\n",
       "      <th>Balance</th>\n",
       "      <th>NumOfProducts</th>\n",
       "      <th>HasCrCard?</th>\n",
       "      <th>IsActiveMember</th>\n",
       "      <th>Estimated Salary</th>\n",
       "      <th>ExitedFromBank?</th>\n",
       "    </tr>\n",
       "  </thead>\n",
       "  <tbody>\n",
       "    <tr>\n",
       "      <th>624</th>\n",
       "      <td>15745307</td>\n",
       "      <td>Ch'iu</td>\n",
       "      <td>477</td>\n",
       "      <td>Spain</td>\n",
       "      <td>Female</td>\n",
       "      <td>2</td>\n",
       "      <td>2</td>\n",
       "      <td>129120.64</td>\n",
       "      <td>1</td>\n",
       "      <td>False</td>\n",
       "      <td>True</td>\n",
       "      <td>26475.79</td>\n",
       "      <td>False</td>\n",
       "    </tr>\n",
       "    <tr>\n",
       "      <th>629</th>\n",
       "      <td>15692463</td>\n",
       "      <td>Rahman</td>\n",
       "      <td>799</td>\n",
       "      <td>Spain</td>\n",
       "      <td>Female</td>\n",
       "      <td>2</td>\n",
       "      <td>3</td>\n",
       "      <td>142253.65</td>\n",
       "      <td>1</td>\n",
       "      <td>True</td>\n",
       "      <td>False</td>\n",
       "      <td>45042.56</td>\n",
       "      <td>False</td>\n",
       "    </tr>\n",
       "    <tr>\n",
       "      <th>632</th>\n",
       "      <td>15718673</td>\n",
       "      <td>Mirams</td>\n",
       "      <td>839</td>\n",
       "      <td>Spain</td>\n",
       "      <td>Female</td>\n",
       "      <td>2</td>\n",
       "      <td>10</td>\n",
       "      <td>75592.43</td>\n",
       "      <td>1</td>\n",
       "      <td>True</td>\n",
       "      <td>False</td>\n",
       "      <td>62674.42</td>\n",
       "      <td>False</td>\n",
       "    </tr>\n",
       "    <tr>\n",
       "      <th>635</th>\n",
       "      <td>15633648</td>\n",
       "      <td>Jideofor</td>\n",
       "      <td>696</td>\n",
       "      <td>Spain</td>\n",
       "      <td>Female</td>\n",
       "      <td>2</td>\n",
       "      <td>5</td>\n",
       "      <td>0.00</td>\n",
       "      <td>2</td>\n",
       "      <td>True</td>\n",
       "      <td>False</td>\n",
       "      <td>55022.43</td>\n",
       "      <td>False</td>\n",
       "    </tr>\n",
       "    <tr>\n",
       "      <th>636</th>\n",
       "      <td>15603323</td>\n",
       "      <td>Bell</td>\n",
       "      <td>660</td>\n",
       "      <td>Spain</td>\n",
       "      <td>Female</td>\n",
       "      <td>2</td>\n",
       "      <td>1</td>\n",
       "      <td>0.00</td>\n",
       "      <td>2</td>\n",
       "      <td>False</td>\n",
       "      <td>False</td>\n",
       "      <td>117834.91</td>\n",
       "      <td>False</td>\n",
       "    </tr>\n",
       "    <tr>\n",
       "      <th>673</th>\n",
       "      <td>15745621</td>\n",
       "      <td>Wertheim</td>\n",
       "      <td>640</td>\n",
       "      <td>Spain</td>\n",
       "      <td>Female</td>\n",
       "      <td>2</td>\n",
       "      <td>6</td>\n",
       "      <td>118879.35</td>\n",
       "      <td>2</td>\n",
       "      <td>True</td>\n",
       "      <td>True</td>\n",
       "      <td>19131.71</td>\n",
       "      <td>False</td>\n",
       "    </tr>\n",
       "    <tr>\n",
       "      <th>676</th>\n",
       "      <td>15607040</td>\n",
       "      <td>P'an</td>\n",
       "      <td>593</td>\n",
       "      <td>Spain</td>\n",
       "      <td>Female</td>\n",
       "      <td>2</td>\n",
       "      <td>4</td>\n",
       "      <td>88736.44</td>\n",
       "      <td>2</td>\n",
       "      <td>True</td>\n",
       "      <td>False</td>\n",
       "      <td>67020.03</td>\n",
       "      <td>False</td>\n",
       "    </tr>\n",
       "    <tr>\n",
       "      <th>678</th>\n",
       "      <td>15810978</td>\n",
       "      <td>Pugliesi</td>\n",
       "      <td>788</td>\n",
       "      <td>Spain</td>\n",
       "      <td>Female</td>\n",
       "      <td>2</td>\n",
       "      <td>1</td>\n",
       "      <td>0.00</td>\n",
       "      <td>2</td>\n",
       "      <td>True</td>\n",
       "      <td>True</td>\n",
       "      <td>41610.62</td>\n",
       "      <td>False</td>\n",
       "    </tr>\n",
       "    <tr>\n",
       "      <th>679</th>\n",
       "      <td>15668886</td>\n",
       "      <td>Blakey</td>\n",
       "      <td>684</td>\n",
       "      <td>Spain</td>\n",
       "      <td>Female</td>\n",
       "      <td>2</td>\n",
       "      <td>3</td>\n",
       "      <td>0.00</td>\n",
       "      <td>2</td>\n",
       "      <td>True</td>\n",
       "      <td>False</td>\n",
       "      <td>44255.65</td>\n",
       "      <td>False</td>\n",
       "    </tr>\n",
       "    <tr>\n",
       "      <th>702</th>\n",
       "      <td>15603436</td>\n",
       "      <td>Savage</td>\n",
       "      <td>594</td>\n",
       "      <td>Spain</td>\n",
       "      <td>Female</td>\n",
       "      <td>2</td>\n",
       "      <td>2</td>\n",
       "      <td>126615.94</td>\n",
       "      <td>2</td>\n",
       "      <td>False</td>\n",
       "      <td>True</td>\n",
       "      <td>123214.74</td>\n",
       "      <td>False</td>\n",
       "    </tr>\n",
       "    <tr>\n",
       "      <th>714</th>\n",
       "      <td>15807609</td>\n",
       "      <td>Yuan</td>\n",
       "      <td>650</td>\n",
       "      <td>Spain</td>\n",
       "      <td>Female</td>\n",
       "      <td>2</td>\n",
       "      <td>3</td>\n",
       "      <td>86605.50</td>\n",
       "      <td>3</td>\n",
       "      <td>True</td>\n",
       "      <td>False</td>\n",
       "      <td>16649.31</td>\n",
       "      <td>True</td>\n",
       "    </tr>\n",
       "  </tbody>\n",
       "</table>\n",
       "</div>"
      ],
      "text/plain": [
       "     Customer_ID Last_Name  Credit Score Country  Gender  Age  Tenure  \\\n",
       "624     15745307     Ch'iu           477   Spain  Female    2       2   \n",
       "629     15692463    Rahman           799   Spain  Female    2       3   \n",
       "632     15718673    Mirams           839   Spain  Female    2      10   \n",
       "635     15633648  Jideofor           696   Spain  Female    2       5   \n",
       "636     15603323      Bell           660   Spain  Female    2       1   \n",
       "673     15745621  Wertheim           640   Spain  Female    2       6   \n",
       "676     15607040      P'an           593   Spain  Female    2       4   \n",
       "678     15810978  Pugliesi           788   Spain  Female    2       1   \n",
       "679     15668886    Blakey           684   Spain  Female    2       3   \n",
       "702     15603436    Savage           594   Spain  Female    2       2   \n",
       "714     15807609      Yuan           650   Spain  Female    2       3   \n",
       "\n",
       "       Balance  NumOfProducts  HasCrCard?  IsActiveMember  Estimated Salary  \\\n",
       "624  129120.64              1       False            True          26475.79   \n",
       "629  142253.65              1        True           False          45042.56   \n",
       "632   75592.43              1        True           False          62674.42   \n",
       "635       0.00              2        True           False          55022.43   \n",
       "636       0.00              2       False           False         117834.91   \n",
       "673  118879.35              2        True            True          19131.71   \n",
       "676   88736.44              2        True           False          67020.03   \n",
       "678       0.00              2        True            True          41610.62   \n",
       "679       0.00              2        True           False          44255.65   \n",
       "702  126615.94              2       False            True         123214.74   \n",
       "714   86605.50              3        True           False          16649.31   \n",
       "\n",
       "     ExitedFromBank?  \n",
       "624            False  \n",
       "629            False  \n",
       "632            False  \n",
       "635            False  \n",
       "636            False  \n",
       "673            False  \n",
       "676            False  \n",
       "678            False  \n",
       "679            False  \n",
       "702            False  \n",
       "714             True  "
      ]
     },
     "execution_count": 211,
     "metadata": {},
     "output_type": "execute_result"
    }
   ],
   "source": [
    "age_check"
   ]
  },
  {
   "cell_type": "markdown",
   "id": "c4be7302-dbfb-4cdd-ad68-a4f3481a00be",
   "metadata": {},
   "source": [
    "There are 11 records with ages less than 18 years. Need to be removed."
   ]
  },
  {
   "cell_type": "code",
   "execution_count": 214,
   "id": "afd3917c-8e5b-45bb-be4c-3125cddb3807",
   "metadata": {},
   "outputs": [],
   "source": [
    "bank = bank.drop(age_check.index)"
   ]
  },
  {
   "cell_type": "code",
   "execution_count": 216,
   "id": "59e08892-699b-40ed-b63f-839159c6bd97",
   "metadata": {},
   "outputs": [
    {
     "data": {
      "text/html": [
       "<div>\n",
       "<style scoped>\n",
       "    .dataframe tbody tr th:only-of-type {\n",
       "        vertical-align: middle;\n",
       "    }\n",
       "\n",
       "    .dataframe tbody tr th {\n",
       "        vertical-align: top;\n",
       "    }\n",
       "\n",
       "    .dataframe thead th {\n",
       "        text-align: right;\n",
       "    }\n",
       "</style>\n",
       "<table border=\"1\" class=\"dataframe\">\n",
       "  <thead>\n",
       "    <tr style=\"text-align: right;\">\n",
       "      <th></th>\n",
       "      <th>Customer_ID</th>\n",
       "      <th>Credit Score</th>\n",
       "      <th>Age</th>\n",
       "      <th>Tenure</th>\n",
       "      <th>Balance</th>\n",
       "      <th>NumOfProducts</th>\n",
       "      <th>Estimated Salary</th>\n",
       "    </tr>\n",
       "  </thead>\n",
       "  <tbody>\n",
       "    <tr>\n",
       "      <th>count</th>\n",
       "      <td>9.790000e+02</td>\n",
       "      <td>979.000000</td>\n",
       "      <td>979.000000</td>\n",
       "      <td>979.000000</td>\n",
       "      <td>979.000000</td>\n",
       "      <td>979.000000</td>\n",
       "      <td>979.000000</td>\n",
       "    </tr>\n",
       "    <tr>\n",
       "      <th>mean</th>\n",
       "      <td>1.569225e+07</td>\n",
       "      <td>648.372829</td>\n",
       "      <td>39.111338</td>\n",
       "      <td>5.084780</td>\n",
       "      <td>78174.555312</td>\n",
       "      <td>1.518897</td>\n",
       "      <td>99072.619871</td>\n",
       "    </tr>\n",
       "    <tr>\n",
       "      <th>std</th>\n",
       "      <td>7.223189e+04</td>\n",
       "      <td>97.922578</td>\n",
       "      <td>10.290507</td>\n",
       "      <td>2.929639</td>\n",
       "      <td>62847.279285</td>\n",
       "      <td>0.572370</td>\n",
       "      <td>57220.874890</td>\n",
       "    </tr>\n",
       "    <tr>\n",
       "      <th>min</th>\n",
       "      <td>1.556609e+07</td>\n",
       "      <td>376.000000</td>\n",
       "      <td>18.000000</td>\n",
       "      <td>0.000000</td>\n",
       "      <td>0.000000</td>\n",
       "      <td>1.000000</td>\n",
       "      <td>371.050000</td>\n",
       "    </tr>\n",
       "    <tr>\n",
       "      <th>25%</th>\n",
       "      <td>1.563019e+07</td>\n",
       "      <td>579.500000</td>\n",
       "      <td>32.000000</td>\n",
       "      <td>2.000000</td>\n",
       "      <td>0.000000</td>\n",
       "      <td>1.000000</td>\n",
       "      <td>50090.645000</td>\n",
       "    </tr>\n",
       "    <tr>\n",
       "      <th>50%</th>\n",
       "      <td>1.569275e+07</td>\n",
       "      <td>653.000000</td>\n",
       "      <td>37.000000</td>\n",
       "      <td>5.000000</td>\n",
       "      <td>99027.610000</td>\n",
       "      <td>1.000000</td>\n",
       "      <td>98820.390000</td>\n",
       "    </tr>\n",
       "    <tr>\n",
       "      <th>75%</th>\n",
       "      <td>1.575396e+07</td>\n",
       "      <td>721.000000</td>\n",
       "      <td>44.000000</td>\n",
       "      <td>8.000000</td>\n",
       "      <td>129500.955000</td>\n",
       "      <td>2.000000</td>\n",
       "      <td>146856.220000</td>\n",
       "    </tr>\n",
       "    <tr>\n",
       "      <th>max</th>\n",
       "      <td>1.581536e+07</td>\n",
       "      <td>850.000000</td>\n",
       "      <td>82.000000</td>\n",
       "      <td>10.000000</td>\n",
       "      <td>213146.200000</td>\n",
       "      <td>4.000000</td>\n",
       "      <td>199725.390000</td>\n",
       "    </tr>\n",
       "  </tbody>\n",
       "</table>\n",
       "</div>"
      ],
      "text/plain": [
       "        Customer_ID  Credit Score         Age      Tenure        Balance  \\\n",
       "count  9.790000e+02    979.000000  979.000000  979.000000     979.000000   \n",
       "mean   1.569225e+07    648.372829   39.111338    5.084780   78174.555312   \n",
       "std    7.223189e+04     97.922578   10.290507    2.929639   62847.279285   \n",
       "min    1.556609e+07    376.000000   18.000000    0.000000       0.000000   \n",
       "25%    1.563019e+07    579.500000   32.000000    2.000000       0.000000   \n",
       "50%    1.569275e+07    653.000000   37.000000    5.000000   99027.610000   \n",
       "75%    1.575396e+07    721.000000   44.000000    8.000000  129500.955000   \n",
       "max    1.581536e+07    850.000000   82.000000   10.000000  213146.200000   \n",
       "\n",
       "       NumOfProducts  Estimated Salary  \n",
       "count     979.000000        979.000000  \n",
       "mean        1.518897      99072.619871  \n",
       "std         0.572370      57220.874890  \n",
       "min         1.000000        371.050000  \n",
       "25%         1.000000      50090.645000  \n",
       "50%         1.000000      98820.390000  \n",
       "75%         2.000000     146856.220000  \n",
       "max         4.000000     199725.390000  "
      ]
     },
     "execution_count": 216,
     "metadata": {},
     "output_type": "execute_result"
    }
   ],
   "source": [
    "bank.describe()"
   ]
  },
  {
   "cell_type": "markdown",
   "id": "374e7069-afdf-4f05-8b4e-f982b66ee217",
   "metadata": {},
   "source": [
    "Minimum age is 18 now."
   ]
  },
  {
   "cell_type": "markdown",
   "id": "29ead5be-5ccd-4ef0-bd8e-30d1fc01bb59",
   "metadata": {},
   "source": [
    "## 6. Check shape, structure and basic descriptive statistics on after updates"
   ]
  },
  {
   "cell_type": "code",
   "execution_count": 220,
   "id": "de28cdc8-a602-470f-97e3-aedb1f1c7b49",
   "metadata": {},
   "outputs": [
    {
     "data": {
      "text/plain": [
       "(979, 13)"
      ]
     },
     "execution_count": 220,
     "metadata": {},
     "output_type": "execute_result"
    }
   ],
   "source": [
    "bank.shape"
   ]
  },
  {
   "cell_type": "code",
   "execution_count": 222,
   "id": "6ca4dce6-8e79-46a2-bf4c-e4fbfe8eaac8",
   "metadata": {},
   "outputs": [
    {
     "data": {
      "text/html": [
       "<div>\n",
       "<style scoped>\n",
       "    .dataframe tbody tr th:only-of-type {\n",
       "        vertical-align: middle;\n",
       "    }\n",
       "\n",
       "    .dataframe tbody tr th {\n",
       "        vertical-align: top;\n",
       "    }\n",
       "\n",
       "    .dataframe thead th {\n",
       "        text-align: right;\n",
       "    }\n",
       "</style>\n",
       "<table border=\"1\" class=\"dataframe\">\n",
       "  <thead>\n",
       "    <tr style=\"text-align: right;\">\n",
       "      <th></th>\n",
       "      <th>Customer_ID</th>\n",
       "      <th>Last_Name</th>\n",
       "      <th>Credit Score</th>\n",
       "      <th>Country</th>\n",
       "      <th>Gender</th>\n",
       "      <th>Age</th>\n",
       "      <th>Tenure</th>\n",
       "      <th>Balance</th>\n",
       "      <th>NumOfProducts</th>\n",
       "      <th>HasCrCard?</th>\n",
       "      <th>IsActiveMember</th>\n",
       "      <th>Estimated Salary</th>\n",
       "      <th>ExitedFromBank?</th>\n",
       "    </tr>\n",
       "  </thead>\n",
       "  <tbody>\n",
       "    <tr>\n",
       "      <th>0</th>\n",
       "      <td>15634602</td>\n",
       "      <td>Hargrave</td>\n",
       "      <td>619</td>\n",
       "      <td>France</td>\n",
       "      <td>Female</td>\n",
       "      <td>42</td>\n",
       "      <td>2</td>\n",
       "      <td>0.00</td>\n",
       "      <td>1</td>\n",
       "      <td>True</td>\n",
       "      <td>True</td>\n",
       "      <td>101348.88</td>\n",
       "      <td>True</td>\n",
       "    </tr>\n",
       "    <tr>\n",
       "      <th>1</th>\n",
       "      <td>15647311</td>\n",
       "      <td>Hill</td>\n",
       "      <td>608</td>\n",
       "      <td>Spain</td>\n",
       "      <td>Female</td>\n",
       "      <td>41</td>\n",
       "      <td>1</td>\n",
       "      <td>83807.86</td>\n",
       "      <td>1</td>\n",
       "      <td>False</td>\n",
       "      <td>True</td>\n",
       "      <td>112542.58</td>\n",
       "      <td>False</td>\n",
       "    </tr>\n",
       "    <tr>\n",
       "      <th>2</th>\n",
       "      <td>15619304</td>\n",
       "      <td>Onio</td>\n",
       "      <td>502</td>\n",
       "      <td>France</td>\n",
       "      <td>Female</td>\n",
       "      <td>42</td>\n",
       "      <td>8</td>\n",
       "      <td>159660.80</td>\n",
       "      <td>3</td>\n",
       "      <td>True</td>\n",
       "      <td>False</td>\n",
       "      <td>113931.57</td>\n",
       "      <td>True</td>\n",
       "    </tr>\n",
       "    <tr>\n",
       "      <th>3</th>\n",
       "      <td>15701354</td>\n",
       "      <td>Boni</td>\n",
       "      <td>699</td>\n",
       "      <td>France</td>\n",
       "      <td>Female</td>\n",
       "      <td>39</td>\n",
       "      <td>1</td>\n",
       "      <td>0.00</td>\n",
       "      <td>2</td>\n",
       "      <td>False</td>\n",
       "      <td>False</td>\n",
       "      <td>93826.63</td>\n",
       "      <td>False</td>\n",
       "    </tr>\n",
       "    <tr>\n",
       "      <th>4</th>\n",
       "      <td>15737888</td>\n",
       "      <td>Mitchell</td>\n",
       "      <td>850</td>\n",
       "      <td>Spain</td>\n",
       "      <td>Female</td>\n",
       "      <td>43</td>\n",
       "      <td>2</td>\n",
       "      <td>125510.82</td>\n",
       "      <td>1</td>\n",
       "      <td>True</td>\n",
       "      <td>True</td>\n",
       "      <td>79084.10</td>\n",
       "      <td>False</td>\n",
       "    </tr>\n",
       "  </tbody>\n",
       "</table>\n",
       "</div>"
      ],
      "text/plain": [
       "   Customer_ID Last_Name  Credit Score Country  Gender  Age  Tenure  \\\n",
       "0     15634602  Hargrave           619  France  Female   42       2   \n",
       "1     15647311      Hill           608   Spain  Female   41       1   \n",
       "2     15619304      Onio           502  France  Female   42       8   \n",
       "3     15701354      Boni           699  France  Female   39       1   \n",
       "4     15737888  Mitchell           850   Spain  Female   43       2   \n",
       "\n",
       "     Balance  NumOfProducts  HasCrCard?  IsActiveMember  Estimated Salary  \\\n",
       "0       0.00              1        True            True         101348.88   \n",
       "1   83807.86              1       False            True         112542.58   \n",
       "2  159660.80              3        True           False         113931.57   \n",
       "3       0.00              2       False           False          93826.63   \n",
       "4  125510.82              1        True            True          79084.10   \n",
       "\n",
       "   ExitedFromBank?  \n",
       "0             True  \n",
       "1            False  \n",
       "2             True  \n",
       "3            False  \n",
       "4            False  "
      ]
     },
     "execution_count": 222,
     "metadata": {},
     "output_type": "execute_result"
    }
   ],
   "source": [
    "bank.head()"
   ]
  },
  {
   "cell_type": "code",
   "execution_count": 224,
   "id": "bdc1ef94-bb56-4019-ac2a-b631b56b4a9b",
   "metadata": {},
   "outputs": [
    {
     "data": {
      "text/html": [
       "<div>\n",
       "<style scoped>\n",
       "    .dataframe tbody tr th:only-of-type {\n",
       "        vertical-align: middle;\n",
       "    }\n",
       "\n",
       "    .dataframe tbody tr th {\n",
       "        vertical-align: top;\n",
       "    }\n",
       "\n",
       "    .dataframe thead th {\n",
       "        text-align: right;\n",
       "    }\n",
       "</style>\n",
       "<table border=\"1\" class=\"dataframe\">\n",
       "  <thead>\n",
       "    <tr style=\"text-align: right;\">\n",
       "      <th></th>\n",
       "      <th>Customer_ID</th>\n",
       "      <th>Credit Score</th>\n",
       "      <th>Age</th>\n",
       "      <th>Tenure</th>\n",
       "      <th>Balance</th>\n",
       "      <th>NumOfProducts</th>\n",
       "      <th>Estimated Salary</th>\n",
       "    </tr>\n",
       "  </thead>\n",
       "  <tbody>\n",
       "    <tr>\n",
       "      <th>count</th>\n",
       "      <td>9.790000e+02</td>\n",
       "      <td>979.000000</td>\n",
       "      <td>979.000000</td>\n",
       "      <td>979.000000</td>\n",
       "      <td>979.000000</td>\n",
       "      <td>979.000000</td>\n",
       "      <td>979.000000</td>\n",
       "    </tr>\n",
       "    <tr>\n",
       "      <th>mean</th>\n",
       "      <td>1.569225e+07</td>\n",
       "      <td>648.372829</td>\n",
       "      <td>39.111338</td>\n",
       "      <td>5.084780</td>\n",
       "      <td>78174.555312</td>\n",
       "      <td>1.518897</td>\n",
       "      <td>99072.619871</td>\n",
       "    </tr>\n",
       "    <tr>\n",
       "      <th>std</th>\n",
       "      <td>7.223189e+04</td>\n",
       "      <td>97.922578</td>\n",
       "      <td>10.290507</td>\n",
       "      <td>2.929639</td>\n",
       "      <td>62847.279285</td>\n",
       "      <td>0.572370</td>\n",
       "      <td>57220.874890</td>\n",
       "    </tr>\n",
       "    <tr>\n",
       "      <th>min</th>\n",
       "      <td>1.556609e+07</td>\n",
       "      <td>376.000000</td>\n",
       "      <td>18.000000</td>\n",
       "      <td>0.000000</td>\n",
       "      <td>0.000000</td>\n",
       "      <td>1.000000</td>\n",
       "      <td>371.050000</td>\n",
       "    </tr>\n",
       "    <tr>\n",
       "      <th>25%</th>\n",
       "      <td>1.563019e+07</td>\n",
       "      <td>579.500000</td>\n",
       "      <td>32.000000</td>\n",
       "      <td>2.000000</td>\n",
       "      <td>0.000000</td>\n",
       "      <td>1.000000</td>\n",
       "      <td>50090.645000</td>\n",
       "    </tr>\n",
       "    <tr>\n",
       "      <th>50%</th>\n",
       "      <td>1.569275e+07</td>\n",
       "      <td>653.000000</td>\n",
       "      <td>37.000000</td>\n",
       "      <td>5.000000</td>\n",
       "      <td>99027.610000</td>\n",
       "      <td>1.000000</td>\n",
       "      <td>98820.390000</td>\n",
       "    </tr>\n",
       "    <tr>\n",
       "      <th>75%</th>\n",
       "      <td>1.575396e+07</td>\n",
       "      <td>721.000000</td>\n",
       "      <td>44.000000</td>\n",
       "      <td>8.000000</td>\n",
       "      <td>129500.955000</td>\n",
       "      <td>2.000000</td>\n",
       "      <td>146856.220000</td>\n",
       "    </tr>\n",
       "    <tr>\n",
       "      <th>max</th>\n",
       "      <td>1.581536e+07</td>\n",
       "      <td>850.000000</td>\n",
       "      <td>82.000000</td>\n",
       "      <td>10.000000</td>\n",
       "      <td>213146.200000</td>\n",
       "      <td>4.000000</td>\n",
       "      <td>199725.390000</td>\n",
       "    </tr>\n",
       "  </tbody>\n",
       "</table>\n",
       "</div>"
      ],
      "text/plain": [
       "        Customer_ID  Credit Score         Age      Tenure        Balance  \\\n",
       "count  9.790000e+02    979.000000  979.000000  979.000000     979.000000   \n",
       "mean   1.569225e+07    648.372829   39.111338    5.084780   78174.555312   \n",
       "std    7.223189e+04     97.922578   10.290507    2.929639   62847.279285   \n",
       "min    1.556609e+07    376.000000   18.000000    0.000000       0.000000   \n",
       "25%    1.563019e+07    579.500000   32.000000    2.000000       0.000000   \n",
       "50%    1.569275e+07    653.000000   37.000000    5.000000   99027.610000   \n",
       "75%    1.575396e+07    721.000000   44.000000    8.000000  129500.955000   \n",
       "max    1.581536e+07    850.000000   82.000000   10.000000  213146.200000   \n",
       "\n",
       "       NumOfProducts  Estimated Salary  \n",
       "count     979.000000        979.000000  \n",
       "mean        1.518897      99072.619871  \n",
       "std         0.572370      57220.874890  \n",
       "min         1.000000        371.050000  \n",
       "25%         1.000000      50090.645000  \n",
       "50%         1.000000      98820.390000  \n",
       "75%         2.000000     146856.220000  \n",
       "max         4.000000     199725.390000  "
      ]
     },
     "execution_count": 224,
     "metadata": {},
     "output_type": "execute_result"
    }
   ],
   "source": [
    "bank.describe()"
   ]
  },
  {
   "cell_type": "markdown",
   "id": "e09f393a-6a38-4b16-9136-03f19fdc83a2",
   "metadata": {},
   "source": [
    "## 7. Export data"
   ]
  },
  {
   "cell_type": "code",
   "execution_count": 229,
   "id": "66d27a37-410c-4fad-b27a-c34189a72df3",
   "metadata": {},
   "outputs": [],
   "source": [
    "# Export data\n",
    "bank.to_csv(os.path.join(path, '02. Data', 'Prepared Data', 'PigEBank_cleaned.csv'), index=False)"
   ]
  },
  {
   "cell_type": "code",
   "execution_count": null,
   "id": "0af0c632-cfad-41ed-97fb-9d9ec3fe025e",
   "metadata": {},
   "outputs": [],
   "source": []
  }
 ],
 "metadata": {
  "kernelspec": {
   "display_name": "Python 3 (ipykernel)",
   "language": "python",
   "name": "python3"
  },
  "language_info": {
   "codemirror_mode": {
    "name": "ipython",
    "version": 3
   },
   "file_extension": ".py",
   "mimetype": "text/x-python",
   "name": "python",
   "nbconvert_exporter": "python",
   "pygments_lexer": "ipython3",
   "version": "3.12.4"
  }
 },
 "nbformat": 4,
 "nbformat_minor": 5
}
